{
 "cells": [
  {
   "cell_type": "code",
   "execution_count": 2,
   "id": "782570ab-269e-46fc-bb2e-a5e1546669d7",
   "metadata": {},
   "outputs": [],
   "source": [
    "import numpy as np\n",
    "list_ = [ '1','2','3','4','5' ]\n",
    "array_list = np.array(object = list_)"
   ]
  },
  {
   "cell_type": "markdown",
   "id": "9ec00fdb-ed2f-470e-9ae5-b2af43fc6244",
   "metadata": {},
   "source": [
    "Q1. Is there any difference in the data type of variables list_ and array_list? If there is then write a code\n",
    "to print the data types of both the variables."
   ]
  },
  {
   "cell_type": "raw",
   "id": "2022e21f-40f0-4804-bd34-8748b8339a25",
   "metadata": {},
   "source": [
    "Yes The datatype of list_ and array_list are different"
   ]
  },
  {
   "cell_type": "code",
   "execution_count": 8,
   "id": "18080e7d-174e-4491-93e2-c29d6c9b7b71",
   "metadata": {},
   "outputs": [
    {
     "name": "stdout",
     "output_type": "stream",
     "text": [
      "<class 'list'>\n",
      "<class 'numpy.ndarray'>\n"
     ]
    }
   ],
   "source": [
    "print(type(list_))\n",
    "print(type(array_list))"
   ]
  },
  {
   "cell_type": "markdown",
   "id": "c0683951-db88-4dde-8964-040289be4dce",
   "metadata": {},
   "source": [
    "Q2. Write a code to print the data type of each and every element of both the variables list_ and\n",
    "array_list."
   ]
  },
  {
   "cell_type": "code",
   "execution_count": 9,
   "id": "b3a59700-57e8-4294-9822-0d60365665c7",
   "metadata": {},
   "outputs": [
    {
     "name": "stdout",
     "output_type": "stream",
     "text": [
      "<class 'str'>\n",
      "<class 'numpy.str_'>\n"
     ]
    }
   ],
   "source": [
    "print(type(list_[1]))\n",
    "print(type(array_list[2]))"
   ]
  },
  {
   "cell_type": "markdown",
   "id": "b7a7e09c-f99a-445b-a751-fa6294acea21",
   "metadata": {},
   "source": [
    "Q3. Considering the following changes in the variable, array_list:"
   ]
  },
  {
   "cell_type": "code",
   "execution_count": 10,
   "id": "290d176c-3f3f-4881-ae6a-3f55e8fa9c5b",
   "metadata": {},
   "outputs": [],
   "source": [
    "array_list = np.array(object = list_, dtype = int)\n"
   ]
  },
  {
   "cell_type": "markdown",
   "id": "5ac90db4-b93c-408c-ad90-32a4a16f1851",
   "metadata": {},
   "source": [
    "Will there be any difference in the data type of the elements present in both the variables, list_ and\n",
    "arra_list? If so then print the data types of each and every element present in both the variables, list_\n",
    "and arra_list."
   ]
  },
  {
   "cell_type": "code",
   "execution_count": null,
   "id": "78cd60cf-e406-40d1-a17b-782a6360e6e0",
   "metadata": {},
   "outputs": [],
   "source": [
    "Yes, its obvious that if we define datatype  while initialising the np array then its going to differ from t"
   ]
  },
  {
   "cell_type": "code",
   "execution_count": 11,
   "id": "37f7a233-989a-4c1d-9a1b-2107f32e7952",
   "metadata": {},
   "outputs": [
    {
     "name": "stdout",
     "output_type": "stream",
     "text": [
      "<class 'str'>\n",
      "<class 'numpy.int64'>\n"
     ]
    }
   ],
   "source": [
    "print(type(list_[1]))\n",
    "print(type(array_list[2]))"
   ]
  },
  {
   "cell_type": "code",
   "execution_count": 12,
   "id": "1ca5c68a-5196-4cdb-afee-45add595ff77",
   "metadata": {},
   "outputs": [],
   "source": [
    "num_list = [ [ 1 , 2 , 3 ] , [ 4 , 5 , 6 ] ]\n",
    "num_array = np.array(object = num_list)"
   ]
  },
  {
   "cell_type": "markdown",
   "id": "be030770-b00c-43a2-b014-1c40f127e4c7",
   "metadata": {},
   "source": [
    "Q4. Write a code to find the following characteristics of variable, num_array:\n",
    "(i) shape\n",
    "(ii) size"
   ]
  },
  {
   "cell_type": "code",
   "execution_count": 14,
   "id": "63e1cb5e-e4c1-4cbc-b0b0-bce167e300eb",
   "metadata": {},
   "outputs": [
    {
     "name": "stdout",
     "output_type": "stream",
     "text": [
      "(2, 3)\n",
      "6\n"
     ]
    }
   ],
   "source": [
    "print(num_array.shape)\n",
    "print(num_array.size)"
   ]
  },
  {
   "cell_type": "markdown",
   "id": "2148bdbb-3e35-4ed4-b3c3-901cec810c19",
   "metadata": {},
   "source": [
    "Q5. Write a code to create numpy array of 3*3 matrix containing zeros only, using a numpy array\n",
    "creation function."
   ]
  },
  {
   "cell_type": "code",
   "execution_count": 25,
   "id": "b87f12e6-6a2c-4af9-917c-3fe8f21cfa37",
   "metadata": {},
   "outputs": [
    {
     "data": {
      "text/plain": [
       "matrix([[0., 0., 0.],\n",
       "        [0., 0., 0.],\n",
       "        [0., 0., 0.]])"
      ]
     },
     "execution_count": 25,
     "metadata": {},
     "output_type": "execute_result"
    }
   ],
   "source": [
    "import numpy.matlib as nm\n",
    "matrixarray = nm.zeros((3,3))\n",
    "matrixarray"
   ]
  },
  {
   "cell_type": "markdown",
   "id": "34d2d445-cbc9-4c71-8740-e0b90ce1bde5",
   "metadata": {},
   "source": [
    "Q6. Create an identity matrix of shape (5,5) using numpy functions?\n",
    "[Hint: An identity matrix is a matrix containing 1 diagonally and other elements will be 0.]"
   ]
  },
  {
   "cell_type": "code",
   "execution_count": 24,
   "id": "86dba20b-14ee-4aaf-b31f-9b3c3aa8f376",
   "metadata": {},
   "outputs": [
    {
     "data": {
      "text/plain": [
       "matrix([[1., 0., 0., 0., 0.],\n",
       "        [0., 1., 0., 0., 0.],\n",
       "        [0., 0., 1., 0., 0.],\n",
       "        [0., 0., 0., 1., 0.],\n",
       "        [0., 0., 0., 0., 1.]])"
      ]
     },
     "execution_count": 24,
     "metadata": {},
     "output_type": "execute_result"
    }
   ],
   "source": [
    "identitymat = nm.identity(5)\n",
    "identitymat"
   ]
  },
  {
   "cell_type": "code",
   "execution_count": null,
   "id": "c224263d-c812-4051-ad99-35715f63d39f",
   "metadata": {},
   "outputs": [],
   "source": []
  }
 ],
 "metadata": {
  "kernelspec": {
   "display_name": "Python 3 (ipykernel)",
   "language": "python",
   "name": "python3"
  },
  "language_info": {
   "codemirror_mode": {
    "name": "ipython",
    "version": 3
   },
   "file_extension": ".py",
   "mimetype": "text/x-python",
   "name": "python",
   "nbconvert_exporter": "python",
   "pygments_lexer": "ipython3",
   "version": "3.10.8"
  }
 },
 "nbformat": 4,
 "nbformat_minor": 5
}
