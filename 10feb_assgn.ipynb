{
 "cells": [
  {
   "cell_type": "code",
   "execution_count": null,
   "id": "98ac2529-da32-47ab-8441-01f064ddf725",
   "metadata": {},
   "outputs": [],
   "source": [
    "Q1. Which function is used to open a file? What are the different modes of opening a file? Explain each mode\n",
    "of file opening.\n",
    "\n",
    "Ans. the open() function is used to open a file in python.\n",
    "There are three modes of opening a file in python :\n",
    "    1. Read Mode(r,rb) : This is used when file needs to be read without making any changes to the same.\n",
    "    2. Write Mode(w,wb) :  This mode is used when a file needs to be written from scratch i.e. the content passed in write command will be new in file, in case a file does not exist then a file will be created.\n",
    "    3. Append Mode(a,ab): This mode is used to add content in a file at the end of the file. In this case, the content present in the file will not be manipulated."
   ]
  },
  {
   "cell_type": "code",
   "execution_count": null,
   "id": "2db15d71-fbad-4b78-85eb-9340479c05f3",
   "metadata": {},
   "outputs": [],
   "source": [
    "Q2. Why close() function is used? Why is it important to close a file?\n",
    "Ans. The close() function is used to close or shut the connection with a file pointer making all the changes permanent done through the same.\n",
    "    Reasons why we should close a file:\n",
    "        1. Free up the system resources : In case we don't close the file then system will keep some resources allocated to the file pointer which could result into crashes and poor performance from the system.\n",
    "        2. Avoid File Locking: If you dont close a file then it will cause file locking and other applications will not able to make changes.\n",
    "        3. Data Integrity :  whatever data you write in a file , it gets temporarily stored in a computer buffer which needs to be made permanent to the file , it happens when close() is used."
   ]
  },
  {
   "cell_type": "code",
   "execution_count": 4,
   "id": "5865b31a-fb36-49a6-93fe-08349a15cf71",
   "metadata": {},
   "outputs": [
    {
     "name": "stdout",
     "output_type": "stream",
     "text": [
      "I want to become a Data Scientist\n"
     ]
    }
   ],
   "source": [
    "# Q3. Write a python program to create a text file. Write ‘I want to become a Data Scientist’ in that file. Then\n",
    "# close the file. Open this file and read the content of the file.\n",
    "file1 = open(\"wanttobe.txt\",'w')\n",
    "file1.write(\"I want to become a Data Scientist\")\n",
    "file1.close()\n",
    "file1 = open(\"wanttobe.txt\",'r')\n",
    "data = file1.read()\n",
    "print(data)\n",
    "file1.close()"
   ]
  },
  {
   "cell_type": "code",
   "execution_count": 11,
   "id": "799872ec-1997-44e7-b49b-7ffe726d9c46",
   "metadata": {},
   "outputs": [
    {
     "name": "stdout",
     "output_type": "stream",
     "text": [
      "With Read Command :\n",
      " I want to become a Data Scientist\n",
      "So,I am learning data science\n",
      "So,I am learning data science\n",
      "So,I am learning data science \n",
      "\n",
      "\n",
      "With Readline Command :\n",
      " I want to become a Data Scientist\n",
      " \n",
      "\n",
      "\n",
      "With Readline Command :\n",
      " ['I want to become a Data Scientist\\n', 'So,I am learning data science\\n', 'So,I am learning data science\\n', 'So,I am learning data science'] \n",
      "\n",
      "\n"
     ]
    }
   ],
   "source": [
    "# Q4. Explain the following with python code: read(), readline() and readlines().\n",
    "file1 = open('wanttobe.txt',\"a\")\n",
    "file1.write('\\nSo,I am learning data science')\n",
    "file1.close()\n",
    "file1 = open('wanttobe.txt',\"r\")\n",
    "readcmd = file1.read()\n",
    "print(\"With Read Command :\\n\",readcmd,\"\\n\\n\")\n",
    "file1.seek(0)\n",
    "readcmd = file1.readline()\n",
    "print(\"With Readline Command :\\n\",readcmd,\"\\n\\n\")\n",
    "file1.seek(0)\n",
    "readcmd = file1.readlines()\n",
    "print(\"With Readline Command :\\n\",readcmd,\"\\n\\n\")\n",
    "file1.close()"
   ]
  },
  {
   "cell_type": "code",
   "execution_count": null,
   "id": "fd711550-b3ec-4618-a12d-fc31326d790c",
   "metadata": {},
   "outputs": [],
   "source": [
    "Q5. Explain why with statement is used with open(). What is the advantage of using with statement and\n",
    "open() together?\n",
    "Ans. Using 'with' with open() ensures closing of file automatically when we exit from program or an exception is raised.\n",
    " Advantages of using 'with' with open statement is :\n",
    "        1. Concised syntax : this line of code does the work of both open() and close() concurrently which makes our code more concise and easily readable.\n",
    "        2. Better Resource Management : As the closure of file post completion of work is ensured , hence the resources are not wasted redudantly.\n"
   ]
  },
  {
   "cell_type": "code",
   "execution_count": 15,
   "id": "a5ebb0a0-7dba-42de-bdbc-5f367f1bbc3f",
   "metadata": {},
   "outputs": [
    {
     "name": "stdout",
     "output_type": "stream",
     "text": [
      "The quick brown fox jumps over the lazy dog\n",
      "\n",
      "This is India\n",
      "Gems are found here\n",
      "Rivers are worshipped as god and goddess\n",
      "\n"
     ]
    }
   ],
   "source": [
    "# Q6. Explain the write() and writelines() functions. Give a suitable example.\n",
    "# Ans.\n",
    "#     Write() function is used to write a string or paragraph in a file \n",
    "#     Writelines() is used to write a list of lines or strings in a file.\n",
    "    \n",
    "#     For E.g:\n",
    "file1 = open(\"newfile.txt\",'w')\n",
    "file1.write(\"The quick brown fox jumps over the lazy dog\")\n",
    "file1.close()\n",
    "file2 =  open(\"twofile.txt\",'w')\n",
    "lis = [\"This is India\\n\",\"Gems are found here\\n\",\"Rivers are worshipped as god and goddess\"]\n",
    "file2.writelines(lis)\n",
    "file2.close()\n",
    "        \n",
    "#         Now Read Part\n",
    "file1 = open(\"newfile.txt\",'r')\n",
    "file1con = file1.read()\n",
    "print(file1con,end=\"\\n\\n\")\n",
    "file1.close()\n",
    "file2 = open(\"twofile.txt\",'r')\n",
    "file2con = file2.read()\n",
    "print(file2con,end=\"\\n\\n\")\n",
    "file2.close()"
   ]
  },
  {
   "cell_type": "code",
   "execution_count": null,
   "id": "08b2d7a2-73d9-492d-bafc-8f63e30f7716",
   "metadata": {},
   "outputs": [],
   "source": []
  }
 ],
 "metadata": {
  "kernelspec": {
   "display_name": "Python 3 (ipykernel)",
   "language": "python",
   "name": "python3"
  },
  "language_info": {
   "codemirror_mode": {
    "name": "ipython",
    "version": 3
   },
   "file_extension": ".py",
   "mimetype": "text/x-python",
   "name": "python",
   "nbconvert_exporter": "python",
   "pygments_lexer": "ipython3",
   "version": "3.10.8"
  }
 },
 "nbformat": 4,
 "nbformat_minor": 5
}
