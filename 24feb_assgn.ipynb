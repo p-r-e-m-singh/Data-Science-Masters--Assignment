{
 "cells": [
  {
   "cell_type": "markdown",
   "id": "a6b884a5-1e3c-4f89-8cdf-6ce91185f552",
   "metadata": {},
   "source": [
    "Q1. List any five functions of the pandas library with execution."
   ]
  },
  {
   "cell_type": "code",
   "execution_count": 3,
   "id": "cd572d78-a9f5-4751-9ab1-2fefe06e136b",
   "metadata": {},
   "outputs": [],
   "source": [
    "import pandas as pd"
   ]
  },
  {
   "cell_type": "code",
   "execution_count": 6,
   "id": "00abd5e4-c2e2-4255-8161-11ece02985d6",
   "metadata": {},
   "outputs": [],
   "source": [
    "content = pd.read_csv(\"randomcsv.csv\")"
   ]
  },
  {
   "cell_type": "code",
   "execution_count": 8,
   "id": "b4fdc1bc-508b-4b16-bbb7-a35516d380c7",
   "metadata": {},
   "outputs": [
    {
     "data": {
      "text/html": [
       "<div>\n",
       "<style scoped>\n",
       "    .dataframe tbody tr th:only-of-type {\n",
       "        vertical-align: middle;\n",
       "    }\n",
       "\n",
       "    .dataframe tbody tr th {\n",
       "        vertical-align: top;\n",
       "    }\n",
       "\n",
       "    .dataframe thead th {\n",
       "        text-align: right;\n",
       "    }\n",
       "</style>\n",
       "<table border=\"1\" class=\"dataframe\">\n",
       "  <thead>\n",
       "    <tr style=\"text-align: right;\">\n",
       "      <th></th>\n",
       "      <th>Name</th>\n",
       "      <th>Age</th>\n",
       "      <th>Email</th>\n",
       "      <th>Phone</th>\n",
       "    </tr>\n",
       "  </thead>\n",
       "  <tbody>\n",
       "    <tr>\n",
       "      <th>0</th>\n",
       "      <td>John Smith</td>\n",
       "      <td>35</td>\n",
       "      <td>john.smith@example.com</td>\n",
       "      <td>555-1234</td>\n",
       "    </tr>\n",
       "    <tr>\n",
       "      <th>1</th>\n",
       "      <td>Emily Johnson</td>\n",
       "      <td>28</td>\n",
       "      <td>emily.johnson@example.com</td>\n",
       "      <td>555-5678</td>\n",
       "    </tr>\n",
       "    <tr>\n",
       "      <th>2</th>\n",
       "      <td>Michael Davis</td>\n",
       "      <td>42</td>\n",
       "      <td>michael.davis@example.com</td>\n",
       "      <td>555-9012</td>\n",
       "    </tr>\n",
       "    <tr>\n",
       "      <th>3</th>\n",
       "      <td>Sarah Wilson</td>\n",
       "      <td>31</td>\n",
       "      <td>sarah.wilson@example.com</td>\n",
       "      <td>555-3456</td>\n",
       "    </tr>\n",
       "    <tr>\n",
       "      <th>4</th>\n",
       "      <td>David Brown</td>\n",
       "      <td>39</td>\n",
       "      <td>david.brown@example.com</td>\n",
       "      <td>555-7890</td>\n",
       "    </tr>\n",
       "  </tbody>\n",
       "</table>\n",
       "</div>"
      ],
      "text/plain": [
       "            Name  Age                      Email     Phone\n",
       "0     John Smith   35     john.smith@example.com  555-1234\n",
       "1  Emily Johnson   28  emily.johnson@example.com  555-5678\n",
       "2  Michael Davis   42  michael.davis@example.com  555-9012\n",
       "3   Sarah Wilson   31   sarah.wilson@example.com  555-3456\n",
       "4    David Brown   39    david.brown@example.com  555-7890"
      ]
     },
     "execution_count": 8,
     "metadata": {},
     "output_type": "execute_result"
    }
   ],
   "source": [
    "content.head()"
   ]
  },
  {
   "cell_type": "code",
   "execution_count": 9,
   "id": "ee007f6a-865f-4f5e-a9cd-9b590d6b5b6e",
   "metadata": {},
   "outputs": [
    {
     "data": {
      "text/html": [
       "<div>\n",
       "<style scoped>\n",
       "    .dataframe tbody tr th:only-of-type {\n",
       "        vertical-align: middle;\n",
       "    }\n",
       "\n",
       "    .dataframe tbody tr th {\n",
       "        vertical-align: top;\n",
       "    }\n",
       "\n",
       "    .dataframe thead th {\n",
       "        text-align: right;\n",
       "    }\n",
       "</style>\n",
       "<table border=\"1\" class=\"dataframe\">\n",
       "  <thead>\n",
       "    <tr style=\"text-align: right;\">\n",
       "      <th></th>\n",
       "      <th>Name</th>\n",
       "      <th>Age</th>\n",
       "      <th>Email</th>\n",
       "      <th>Phone</th>\n",
       "    </tr>\n",
       "  </thead>\n",
       "  <tbody>\n",
       "    <tr>\n",
       "      <th>0</th>\n",
       "      <td>John Smith</td>\n",
       "      <td>35</td>\n",
       "      <td>john.smith@example.com</td>\n",
       "      <td>555-1234</td>\n",
       "    </tr>\n",
       "    <tr>\n",
       "      <th>1</th>\n",
       "      <td>Emily Johnson</td>\n",
       "      <td>28</td>\n",
       "      <td>emily.johnson@example.com</td>\n",
       "      <td>555-5678</td>\n",
       "    </tr>\n",
       "    <tr>\n",
       "      <th>2</th>\n",
       "      <td>Michael Davis</td>\n",
       "      <td>42</td>\n",
       "      <td>michael.davis@example.com</td>\n",
       "      <td>555-9012</td>\n",
       "    </tr>\n",
       "    <tr>\n",
       "      <th>3</th>\n",
       "      <td>Sarah Wilson</td>\n",
       "      <td>31</td>\n",
       "      <td>sarah.wilson@example.com</td>\n",
       "      <td>555-3456</td>\n",
       "    </tr>\n",
       "    <tr>\n",
       "      <th>4</th>\n",
       "      <td>David Brown</td>\n",
       "      <td>39</td>\n",
       "      <td>david.brown@example.com</td>\n",
       "      <td>555-7890</td>\n",
       "    </tr>\n",
       "  </tbody>\n",
       "</table>\n",
       "</div>"
      ],
      "text/plain": [
       "            Name  Age                      Email     Phone\n",
       "0     John Smith   35     john.smith@example.com  555-1234\n",
       "1  Emily Johnson   28  emily.johnson@example.com  555-5678\n",
       "2  Michael Davis   42  michael.davis@example.com  555-9012\n",
       "3   Sarah Wilson   31   sarah.wilson@example.com  555-3456\n",
       "4    David Brown   39    david.brown@example.com  555-7890"
      ]
     },
     "execution_count": 9,
     "metadata": {},
     "output_type": "execute_result"
    }
   ],
   "source": [
    "content.tail()"
   ]
  },
  {
   "cell_type": "code",
   "execution_count": 10,
   "id": "16fc4586-0067-4cd6-96fb-b1685e5d09e4",
   "metadata": {},
   "outputs": [
    {
     "data": {
      "text/plain": [
       "0    35\n",
       "1    28\n",
       "2    42\n",
       "3    31\n",
       "4    39\n",
       "Name: Age, dtype: int64"
      ]
     },
     "execution_count": 10,
     "metadata": {},
     "output_type": "execute_result"
    }
   ],
   "source": [
    "content['Age']"
   ]
  },
  {
   "cell_type": "code",
   "execution_count": 11,
   "id": "d0a5cbf3-6ee9-4903-b71f-6589ee2664b3",
   "metadata": {},
   "outputs": [
    {
     "data": {
      "text/html": [
       "<div>\n",
       "<style scoped>\n",
       "    .dataframe tbody tr th:only-of-type {\n",
       "        vertical-align: middle;\n",
       "    }\n",
       "\n",
       "    .dataframe tbody tr th {\n",
       "        vertical-align: top;\n",
       "    }\n",
       "\n",
       "    .dataframe thead th {\n",
       "        text-align: right;\n",
       "    }\n",
       "</style>\n",
       "<table border=\"1\" class=\"dataframe\">\n",
       "  <thead>\n",
       "    <tr style=\"text-align: right;\">\n",
       "      <th></th>\n",
       "      <th>Age</th>\n",
       "    </tr>\n",
       "  </thead>\n",
       "  <tbody>\n",
       "    <tr>\n",
       "      <th>count</th>\n",
       "      <td>5.000000</td>\n",
       "    </tr>\n",
       "    <tr>\n",
       "      <th>mean</th>\n",
       "      <td>35.000000</td>\n",
       "    </tr>\n",
       "    <tr>\n",
       "      <th>std</th>\n",
       "      <td>5.700877</td>\n",
       "    </tr>\n",
       "    <tr>\n",
       "      <th>min</th>\n",
       "      <td>28.000000</td>\n",
       "    </tr>\n",
       "    <tr>\n",
       "      <th>25%</th>\n",
       "      <td>31.000000</td>\n",
       "    </tr>\n",
       "    <tr>\n",
       "      <th>50%</th>\n",
       "      <td>35.000000</td>\n",
       "    </tr>\n",
       "    <tr>\n",
       "      <th>75%</th>\n",
       "      <td>39.000000</td>\n",
       "    </tr>\n",
       "    <tr>\n",
       "      <th>max</th>\n",
       "      <td>42.000000</td>\n",
       "    </tr>\n",
       "  </tbody>\n",
       "</table>\n",
       "</div>"
      ],
      "text/plain": [
       "             Age\n",
       "count   5.000000\n",
       "mean   35.000000\n",
       "std     5.700877\n",
       "min    28.000000\n",
       "25%    31.000000\n",
       "50%    35.000000\n",
       "75%    39.000000\n",
       "max    42.000000"
      ]
     },
     "execution_count": 11,
     "metadata": {},
     "output_type": "execute_result"
    }
   ],
   "source": [
    "content.describe()"
   ]
  },
  {
   "cell_type": "code",
   "execution_count": 12,
   "id": "d3215079-f737-467c-bb01-0f7dd422234c",
   "metadata": {},
   "outputs": [
    {
     "data": {
      "text/html": [
       "<div>\n",
       "<style scoped>\n",
       "    .dataframe tbody tr th:only-of-type {\n",
       "        vertical-align: middle;\n",
       "    }\n",
       "\n",
       "    .dataframe tbody tr th {\n",
       "        vertical-align: top;\n",
       "    }\n",
       "\n",
       "    .dataframe thead th {\n",
       "        text-align: right;\n",
       "    }\n",
       "</style>\n",
       "<table border=\"1\" class=\"dataframe\">\n",
       "  <thead>\n",
       "    <tr style=\"text-align: right;\">\n",
       "      <th></th>\n",
       "      <th>Name</th>\n",
       "      <th>Age</th>\n",
       "      <th>Email</th>\n",
       "    </tr>\n",
       "  </thead>\n",
       "  <tbody>\n",
       "    <tr>\n",
       "      <th>0</th>\n",
       "      <td>John Smith</td>\n",
       "      <td>35</td>\n",
       "      <td>john.smith@example.com</td>\n",
       "    </tr>\n",
       "    <tr>\n",
       "      <th>1</th>\n",
       "      <td>Emily Johnson</td>\n",
       "      <td>28</td>\n",
       "      <td>emily.johnson@example.com</td>\n",
       "    </tr>\n",
       "  </tbody>\n",
       "</table>\n",
       "</div>"
      ],
      "text/plain": [
       "            Name  Age                      Email\n",
       "0     John Smith   35     john.smith@example.com\n",
       "1  Emily Johnson   28  emily.johnson@example.com"
      ]
     },
     "execution_count": 12,
     "metadata": {},
     "output_type": "execute_result"
    }
   ],
   "source": [
    "content.iloc[0:2,[0,1,2]]"
   ]
  },
  {
   "cell_type": "markdown",
   "id": "1b29d4a2-65fd-46cc-8b2d-5840073dfcad",
   "metadata": {},
   "source": [
    "Q2. Given a Pandas DataFrame df with columns 'A', 'B', and 'C', write a Python function to re-index the\n",
    "DataFrame with a new index that starts from 1 and increments by 2 for each row."
   ]
  },
  {
   "cell_type": "code",
   "execution_count": 14,
   "id": "f71c0371-d9aa-49df-b6d0-b57ea4a10f21",
   "metadata": {},
   "outputs": [],
   "source": [
    "df.index = [i * 2 + 1 for i in range(len(df))]"
   ]
  },
  {
   "cell_type": "markdown",
   "id": "1c0b9ff7-2fff-4f11-b675-992d13f519d0",
   "metadata": {},
   "source": [
    "Q3. You have a Pandas DataFrame df with a column named 'Values'. Write a Python function that\n",
    "iterates over the DataFrame and calculates the sum of the first three values in the 'Values' column. The\n",
    "function should print the sum to the console."
   ]
  },
  {
   "cell_type": "code",
   "execution_count": 1,
   "id": "73ee30b9-251e-41e2-9960-82319a64931c",
   "metadata": {},
   "outputs": [],
   "source": [
    "def sumofcol(df):\n",
    "    colname = \"Age\"\n",
    "    summ=0\n",
    "    for i in range(0,4):\n",
    "        summ =summ+ df[[colname]][i]\n",
    "    print(summ)\n",
    "sumofcol(content)"
   ]
  },
  {
   "cell_type": "markdown",
   "id": "37c0e80a-94da-4602-9fa5-4fa4d3444c24",
   "metadata": {},
   "source": [
    "Q4. Given a Pandas DataFrame df with a column 'Text', write a Python function to create a new column\n",
    "'Word_Count' that contains the number of words in each row of the 'Text' column."
   ]
  },
  {
   "cell_type": "code",
   "execution_count": 1,
   "id": "6d50e329-1747-4139-a36c-1c81ebb42d1d",
   "metadata": {},
   "outputs": [],
   "source": [
    "content['Word_Count']=len(content['Text'])"
   ]
  },
  {
   "cell_type": "markdown",
   "id": "2a90a683-c087-46db-a3bc-833139d196d3",
   "metadata": {},
   "source": [
    "Q5. How are DataFrame.size() and DataFrame.shape() different?"
   ]
  },
  {
   "cell_type": "raw",
   "id": "e5bc9dd0-6168-459e-bab4-e4d01c8a22f7",
   "metadata": {},
   "source": [
    "Ans. DataFrame.size() : returns the number of cells in a dataframe.\n",
    "DataFrame.shape() : returns the structure of dataframe i.e. only two values representing number of rows and columns \n",
    "in a dataframe."
   ]
  },
  {
   "cell_type": "markdown",
   "id": "e3b540dc-9744-4195-91a8-73fda9acb25b",
   "metadata": {},
   "source": [
    "Q6. Which function of pandas do we use to read an excel file?"
   ]
  },
  {
   "cell_type": "raw",
   "id": "d2131b5c-9aac-4db0-a4bd-4026478f9988",
   "metadata": {},
   "source": [
    "Ans. We use read_excel() function of pandas to read excel files."
   ]
  },
  {
   "cell_type": "markdown",
   "id": "3710cbfe-303e-4e28-8eb9-9ce56bb063a0",
   "metadata": {},
   "source": [
    "Q7. You have a Pandas DataFrame df that contains a column named 'Email' that contains email\n",
    "addresses in the format 'username@domain.com'. Write a Python function that creates a new column\n",
    "'Username' in df that contains only the username part of each email address."
   ]
  },
  {
   "cell_type": "code",
   "execution_count": 5,
   "id": "5141897d-a52b-4772-bdc5-b71baa7b2b6d",
   "metadata": {},
   "outputs": [
    {
     "name": "stdout",
     "output_type": "stream",
     "text": [
      "            Email Username\n",
      "0   abc@gmail.com      abc\n",
      "1  pqrs@gmail.com     pqrs\n"
     ]
    }
   ],
   "source": [
    "def usernameextract(df):\n",
    "    df['Username'] = df['Email'].str.split('@').str[0]\n",
    "    return df\n",
    "\n",
    "df = pd.DataFrame({'Email':['abc@gmail.com','pqrs@gmail.com']})\n",
    "df = usernameextract(df)\n",
    "print(df)"
   ]
  },
  {
   "cell_type": "markdown",
   "id": "f194e773-a934-427f-9d8d-e806aad80343",
   "metadata": {},
   "source": [
    "Q8. You have a Pandas DataFrame df with columns 'A', 'B', and 'C'. Write a Python function that selects\n",
    "all rows where the value in column 'A' is greater than 5 and the value in column 'B' is less than 10. The\n",
    "function should return a new DataFrame that contains only the selected rows."
   ]
  },
  {
   "cell_type": "code",
   "execution_count": null,
   "id": "1779158d-8a8f-4716-b01c-27e84fe9a80b",
   "metadata": {},
   "outputs": [],
   "source": [
    "t=(,)\n",
    "for i in df :\n",
    "    if (i['A']>5 and i['B']<10):\n",
    "        t = t+ i\n",
    "newdf = pd.DataFrame\n",
    "newdf['Selected'] = t"
   ]
  },
  {
   "cell_type": "markdown",
   "id": "9087f811-30d3-4ad7-8ca5-46efd9f84937",
   "metadata": {},
   "source": [
    "Q9. Given a Pandas DataFrame df with a column 'Values', write a Python function to calculate the mean,\n",
    "median, and standard deviation of the values in the 'Values' column."
   ]
  },
  {
   "cell_type": "code",
   "execution_count": null,
   "id": "33181d79-44a7-441c-88b2-c922d24ca6f8",
   "metadata": {},
   "outputs": [],
   "source": [
    "def statsanalysis(df):\n",
    "    mean = df['Values'].meann()\n",
    "    median = df['Values'].median()\n",
    "    stdev = df['Values'].std()\n",
    "    return (mean,median,stdev)"
   ]
  },
  {
   "cell_type": "markdown",
   "id": "64629463-209c-45c9-8b55-09e1652ced23",
   "metadata": {},
   "source": [
    "Q10. Given a Pandas DataFrame df with a column 'Sales' and a column 'Date', write a Python function to\n",
    "create a new column 'MovingAverage' that contains the moving average of the sales for the past 7 days\n",
    "for each row in the DataFrame. The moving average should be calculated using a window of size 7 and\n",
    "should include the current day."
   ]
  },
  {
   "cell_type": "code",
   "execution_count": null,
   "id": "d54a8969-f75a-4ea5-88c0-65bf4a4597e4",
   "metadata": {},
   "outputs": [],
   "source": [
    "def calculate_moving_average(df):\n",
    "    \n",
    "    df['Date'] = pd.to_datetime(df['Date'])\n",
    "\n",
    "    \n",
    "    df.sort_values('Date', inplace=True)\n",
    "\n",
    "    \n",
    "    df['MovingAverage'] = df['Sales'].rolling(window=7, min_periods=1).mean()\n",
    "\n",
    "    return df"
   ]
  },
  {
   "cell_type": "markdown",
   "id": "5dee6744-6423-410e-90cb-76f6de0558ca",
   "metadata": {},
   "source": [
    "Q11. You have a Pandas DataFrame df with a column 'Date'. Write a Python function that creates a new\n",
    "column 'Weekday' in the DataFrame. The 'Weekday' column should contain the weekday name (e.g.\n",
    "Monday, Tuesday) corresponding to each date in the 'Date' column."
   ]
  },
  {
   "cell_type": "code",
   "execution_count": null,
   "id": "0106d418-8ee2-4f08-be13-4e2656209dd7",
   "metadata": {},
   "outputs": [],
   "source": [
    "df['Weekday'] = df['Date'].dt.weekday_name"
   ]
  },
  {
   "cell_type": "markdown",
   "id": "46f5bddd-e8d7-42c0-9ec4-4bb2c91d544b",
   "metadata": {},
   "source": [
    "Q12. Given a Pandas DataFrame df with a column 'Date' that contains timestamps, write a Python\n",
    "function to select all rows where the date is between '2023-01-01' and '2023-01-31'."
   ]
  },
  {
   "cell_type": "code",
   "execution_count": null,
   "id": "c6335e55-ad21-4a8e-9c7e-0f1deb416f5b",
   "metadata": {},
   "outputs": [],
   "source": [
    "import pandas as pd\n",
    "\n",
    "def select_rows_between_dates(df):\n",
    "\n",
    "    # Create a boolean mask for rows between the specified dates\n",
    "    mask = (df['Date'].dt.date >= pd.to_datetime('2023-01-01').date()) & (df['Date'].dt.date <= pd.to_datetime('2023-01-31').date())\n",
    "\n",
    "    # Select rows using the boolean mask\n",
    "    selected_rows = df[mask]\n",
    "\n",
    "    return selected_rows"
   ]
  },
  {
   "cell_type": "markdown",
   "id": "b5849c97-8da6-41de-861c-710ded2f7dd6",
   "metadata": {},
   "source": [
    "Q13. To use the basic functions of pandas, what is the first and foremost necessary library that needs to\n",
    "be imported?"
   ]
  },
  {
   "cell_type": "raw",
   "id": "ce26cb75-12d0-4797-81b6-8051b36e1515",
   "metadata": {},
   "source": [
    "pandas"
   ]
  },
  {
   "cell_type": "code",
   "execution_count": null,
   "id": "2a98bec2-2d2c-471f-a22c-83f14e8fab45",
   "metadata": {},
   "outputs": [],
   "source": []
  }
 ],
 "metadata": {
  "kernelspec": {
   "display_name": "Python 3 (ipykernel)",
   "language": "python",
   "name": "python3"
  },
  "language_info": {
   "codemirror_mode": {
    "name": "ipython",
    "version": 3
   },
   "file_extension": ".py",
   "mimetype": "text/x-python",
   "name": "python",
   "nbconvert_exporter": "python",
   "pygments_lexer": "ipython3",
   "version": "3.10.8"
  }
 },
 "nbformat": 4,
 "nbformat_minor": 5
}
