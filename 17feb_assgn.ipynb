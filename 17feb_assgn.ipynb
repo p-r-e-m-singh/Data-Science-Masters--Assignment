{
 "cells": [
  {
   "cell_type": "code",
   "execution_count": null,
   "id": "2e3d42a1-0aef-4126-a0a0-a4668e216943",
   "metadata": {},
   "outputs": [],
   "source": [
    "Q1. What is MongoDB? Explain non-relational databases in short. In which scenarios it is preferred to use\n",
    "MongoDB over SQL databases?\n",
    "Ans. MongoDB is a type of NoSQL Database where unstructured collectional data is stored , in the form\n",
    "    of json file.\n",
    "    Non-Relational Databases are different from traditional databases which have a pre defined column-names\n",
    "    .Here, data is stored in the form of key-value pair ,graphs,images etc.\n",
    "    \n",
    "    MongoDB is prefered over SQL Databases when we know that data to be stored is unstructed in the\n",
    "    form of a collectional data.\n",
    "    "
   ]
  },
  {
   "cell_type": "code",
   "execution_count": null,
   "id": "c37d81c9-6f7b-49cb-86f7-fe811e6beec7",
   "metadata": {},
   "outputs": [],
   "source": [
    "Q2. State and Explain the features of MongoDB.\n",
    "Ans. MongoDB has some features:\n",
    "    - Usability : The data it stores is unstructed which increases its usability in diffrerent \n",
    "        circumstances.\n",
    "    - Scalability : As any form of data can be stored in a MongoDB , hence its scalable with new \n",
    "    form of data being originating every succesive days in this developing world.\n",
    "    - Connectivity : As It is cloud-based software hence db can be easily connected with python \n",
    "    and remote command can be executed easily in MongoDB."
   ]
  },
  {
   "cell_type": "code",
   "execution_count": 2,
   "id": "7ffd8e15-0f33-49fc-86da-66434b6d0092",
   "metadata": {},
   "outputs": [],
   "source": [
    "import pymongo\n",
    "\n",
    "client = pymongo.MongoClient(\"mongodb+srv://sprem1212:<password>@cluster0.u88ojfb.mongodb.net/?retryWrites=true&w=majority\")\n",
    "db = client.test"
   ]
  },
  {
   "cell_type": "code",
   "execution_count": 9,
   "id": "1b9e2539-34c0-4f1e-9621-495b286eb029",
   "metadata": {},
   "outputs": [],
   "source": [
    "# Q3. Write a code to connect MongoDB to Python. Also, create a database and a collection in MongoDB.\n",
    "# Ans.\n",
    "\n",
    "db = client[\"Plants\"]\n",
    "collect = db[\"plant_color\"]\n",
    "data = {\"Aloe\":\"Green\",\"Sun-Flower\":\"Yellow\",\"Cotton\":\"White\"}\n",
    "collect.insert_one(data)"
   ]
  },
  {
   "cell_type": "code",
   "execution_count": 8,
   "id": "b7d82477-f6a9-4c05-a678-f73dde197105",
   "metadata": {},
   "outputs": [],
   "source": [
    "Q4. Using the database and the collection created in question number 3, write a code to insert \n",
    "one record,and insert many records. Use the find() and find_one() methods to print the inserted \n",
    "record."
   ]
  },
  {
   "cell_type": "code",
   "execution_count": null,
   "id": "9366f1a8-9445-4d55-9561-597b8147f3e4",
   "metadata": {},
   "outputs": [],
   "source": [
    "Q5. Explain how you can use the find() method to query the MongoDB database. Write a simple code \n",
    "to demonstrate this.\n",
    "Ans. \n",
    " We have to call the find() function from the collection pointer to fetch all the data in succesion\n",
    "    to wherever the pointer is.\n",
    "    for E.g.\n",
    "    collect.find() will fetch all the data we'll  be storing in our table  "
   ]
  },
  {
   "cell_type": "code",
   "execution_count": null,
   "id": "ffc6e1e3-f710-4189-93b0-32f549171142",
   "metadata": {},
   "outputs": [],
   "source": [
    "Q6. Explain the sort() method. Give an example to demonstrate sorting in MongoDB.\n",
    "Ans. THe sort() function isd used to retrieve the data in aa sorted fashion which has a format.\n",
    "    cursor.sort(paramater)\n",
    "    where paramter is the key value pair of identifier and type of sorting required i.e.(Ascending/Descending)\n",
    "    \n",
    "    for e.g:\n",
    "        collect.find().sort({\"Mango\",1})\n",
    "    "
   ]
  },
  {
   "cell_type": "code",
   "execution_count": null,
   "id": "d9bb1f54-c1ed-4cfc-a509-05b7b192e902",
   "metadata": {},
   "outputs": [],
   "source": [
    "Q7. Explain why delete_one(), delete_many(), and drop() is used.\n",
    "Ans. The delete_one() is used to delete the foremost dataset/row of the collection/ or wherever the pointer is, the next row from it\n",
    "will be deleted.\n",
    "The delete_many() is used to delete specified number of data entries from the table, passing that number in argument.\n",
    "The drop() is used to drop the collection where all data be deleted/cleared from the respective database."
   ]
  }
 ],
 "metadata": {
  "kernelspec": {
   "display_name": "Python 3 (ipykernel)",
   "language": "python",
   "name": "python3"
  },
  "language_info": {
   "codemirror_mode": {
    "name": "ipython",
    "version": 3
   },
   "file_extension": ".py",
   "mimetype": "text/x-python",
   "name": "python",
   "nbconvert_exporter": "python",
   "pygments_lexer": "ipython3",
   "version": "3.10.8"
  }
 },
 "nbformat": 4,
 "nbformat_minor": 5
}
