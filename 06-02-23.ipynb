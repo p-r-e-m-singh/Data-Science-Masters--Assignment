{
 "cells": [
  {
   "cell_type": "code",
   "execution_count": 3,
   "id": "1fadddc5-e6f3-458f-8450-92358eec410d",
   "metadata": {},
   "outputs": [],
   "source": [
    "def flatlist(l):\n",
    "    lis = list()\n",
    "    for i in l:\n",
    "        if(type(i)==dict):\n",
    "            for j in i.keys():\n",
    "                lis.append(j)\n",
    "            for j in i.values():\n",
    "                lis.append(j)\n",
    "        elif(type(i)==list or type(i)==tuple):\n",
    "            for j in i:\n",
    "                lis.append(j)\n",
    "        else:\n",
    "            lis.append(i)\n",
    "    return lis"
   ]
  },
  {
   "cell_type": "code",
   "execution_count": 4,
   "id": "4ba4db6c-f515-41b3-91d8-fa8a2fb5ec99",
   "metadata": {},
   "outputs": [
    {
     "name": "stdout",
     "output_type": "stream",
     "text": [
      "13119822185539829760\n"
     ]
    }
   ],
   "source": [
    "flatlis = flatlist([1,2,3,4, [44,55,66, True], False, (34,56,78,89,34), {1,2,3,3,2,1}, {1:34, \"key2\": [55, 67, 78, 89], 4: (45,\n",
    "22, 61, 34)}, [56, 'data science'], 'Machine Learning'])\n",
    "numprod = 1\n",
    "for i in flatlis:\n",
    "    if(type(i)==int):\n",
    "        numprod *= i\n",
    "print(numprod)"
   ]
  },
  {
   "cell_type": "code",
   "execution_count": 12,
   "id": "c08e94dc-a229-44d3-ace6-c78b2c4a3107",
   "metadata": {},
   "outputs": [],
   "source": [
    "def encryption(msg:str):\n",
    "    encrypted=\"\"\n",
    "    for i in msg:\n",
    "        if(ord(i)>=65 and ord(i)<=90):\n",
    "            encrypted += chr(90-(ord(i)-65))\n",
    "        elif(ord(i)>=97 and ord(i)<=122):\n",
    "            encrypted += chr(122-(ord(i)-97))\n",
    "        elif(i==' '):\n",
    "            encrypted += '$'\n",
    "    return encrypted"
   ]
  },
  {
   "cell_type": "code",
   "execution_count": 15,
   "id": "7a795e65-278c-4a56-9b7c-3e3d4501d150",
   "metadata": {},
   "outputs": [
    {
     "name": "stdout",
     "output_type": "stream",
     "text": [
      "R$dzmg$gl$yvxlnv$z$Wzgz$Hxrvmgrhg\n"
     ]
    }
   ],
   "source": [
    "enc = encryption(\"I want to become a Data Scientist\")\n",
    "print(enc)"
   ]
  },
  {
   "cell_type": "code",
   "execution_count": null,
   "id": "1dc4d4d8-2dc7-4596-acf2-369d0e1b5ef7",
   "metadata": {},
   "outputs": [],
   "source": []
  }
 ],
 "metadata": {
  "kernelspec": {
   "display_name": "Python 3 (ipykernel)",
   "language": "python",
   "name": "python3"
  },
  "language_info": {
   "codemirror_mode": {
    "name": "ipython",
    "version": 3
   },
   "file_extension": ".py",
   "mimetype": "text/x-python",
   "name": "python",
   "nbconvert_exporter": "python",
   "pygments_lexer": "ipython3",
   "version": "3.10.8"
  }
 },
 "nbformat": 4,
 "nbformat_minor": 5
}
