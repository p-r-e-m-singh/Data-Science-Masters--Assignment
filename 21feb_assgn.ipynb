{
 "cells": [
  {
   "cell_type": "code",
   "execution_count": null,
   "id": "ab2cda6d-db13-4876-9a4c-5b6794923431",
   "metadata": {},
   "outputs": [],
   "source": [
    "Q1. What is Web Scraping? Why is it Used? Give three areas where Web Scraping is used to get data.\n",
    "Ans. Web scrapping is the mean to scrap/ collect useful data from a webpage.\n",
    "It is used to gather information from a webpage so that using algorithms profitable predictions can\n",
    "be made.\n",
    "Areas where Web Scrapping is used :\n",
    "    -> E-commerce Platforms can use this to predict user's demand\n",
    "    -> In Research Field it can be used to collect data and check users review for further amendments in it.\n",
    "    -> In "
   ]
  },
  {
   "cell_type": "code",
   "execution_count": null,
   "id": "dbb572d3-25a8-4ba3-9b82-25b5bfb4800d",
   "metadata": {},
   "outputs": [],
   "source": [
    "Q2. What are the different methods used for Web Scraping?\n",
    "Ans. Different methods used for Web Scraping are:\n",
    "    -> Using Web-Scraping Tools: Different Web Scraping tools like BeautifulSoup, Selenium can be \n",
    "    used to scrap data from webpages.\n",
    "    -> using HTML Parser:  HTML Parser can be used to parse data from HTML Webpages.\n",
    "    -> using APIs: APIs can be used to extract data from a webpage.\n",
    "    "
   ]
  },
  {
   "cell_type": "code",
   "execution_count": null,
   "id": "9d229579-6f52-414c-93d1-c74d280e927c",
   "metadata": {},
   "outputs": [],
   "source": [
    "Q3. What is Beautiful Soup? Why is it used?\n",
    "Ans. Beautiful Soup is a python library used for web scraping from HTML as well as XML based webpages.\n",
    "It is used for Web-scrapping because:\n",
    "    -> It navigates to different elements easily.\n",
    "    -> It's easy to use and has a clear syntax.\n",
    "    ->It works well with other python libraries like request and pandas."
   ]
  },
  {
   "cell_type": "code",
   "execution_count": null,
   "id": "f579038e-3133-4e9d-90d5-849ee24a0c26",
   "metadata": {},
   "outputs": [],
   "source": [
    "Q4. Why is flask used in this Web Scraping project?\n",
    "Ans. Flask is used in Web Scraping Project because:\n",
    "    -> Easy to use: It is easy and clear syntax makes it useful for web scraping.\n",
    "    -> Integrity :  It can be easily integrable with other python libraaries like BeautifulSoup,\n",
    "    Pandas , etc.\n",
    "    -> Scalability : It is scalable due to its easy to use feature and upgradation facility."
   ]
  },
  {
   "cell_type": "code",
   "execution_count": null,
   "id": "95150e0e-ad47-4faf-b3b8-7a684dfcc384",
   "metadata": {},
   "outputs": [],
   "source": [
    "Q5. Write the names of AWS services used in this project. Also, explain the use of each service.\n",
    "Ans. cant get AWS subscription,  will update it after getting one"
   ]
  }
 ],
 "metadata": {
  "kernelspec": {
   "display_name": "Python 3 (ipykernel)",
   "language": "python",
   "name": "python3"
  },
  "language_info": {
   "codemirror_mode": {
    "name": "ipython",
    "version": 3
   },
   "file_extension": ".py",
   "mimetype": "text/x-python",
   "name": "python",
   "nbconvert_exporter": "python",
   "pygments_lexer": "ipython3",
   "version": "3.10.8"
  }
 },
 "nbformat": 4,
 "nbformat_minor": 5
}
