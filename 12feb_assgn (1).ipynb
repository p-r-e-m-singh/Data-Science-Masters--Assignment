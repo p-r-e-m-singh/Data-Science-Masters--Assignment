{
 "cells": [
  {
   "cell_type": "code",
   "execution_count": 14,
   "id": "d82eb017-ef02-46fd-92e7-9a12e04abbe5",
   "metadata": {},
   "outputs": [],
   "source": [
    "Q1. What is Exception in python?Write the difference b/w Exception & syntax errors.\n",
    "Ans: An exception is a type of error which arises when a unwanted situation arises while execution of a program.\n",
    "Exception : \n",
    "    1. These errors arise while compilation or execution of a program due to an unfamiliar situation.\n",
    "    \n",
    "Syntax Error:\n",
    "    1. This takes place while parsing/writing a code , when a mispelling or undefined indentation is provided in it.\n",
    "    "
   ]
  },
  {
   "cell_type": "code",
   "execution_count": 4,
   "id": "db44fb43-2d4b-44cd-b78f-62f3d32e28ad",
   "metadata": {},
   "outputs": [
    {
     "ename": "IndexError",
     "evalue": "list index out of range",
     "output_type": "error",
     "traceback": [
      "\u001b[0;31m---------------------------------------------------------------------------\u001b[0m",
      "\u001b[0;31mIndexError\u001b[0m                                Traceback (most recent call last)",
      "Cell \u001b[0;32mIn[4], line 11\u001b[0m\n\u001b[1;32m      1\u001b[0m \u001b[38;5;66;03m# Q2. What happens when an exception is not handled ? Explain with an example.\u001b[39;00m\n\u001b[1;32m      2\u001b[0m \n\u001b[1;32m      3\u001b[0m \u001b[38;5;66;03m# Ans. When an exception is not handled ,it goes into OS trap and Operating System handles it in it's way showing error while executing \u001b[39;00m\n\u001b[1;32m      4\u001b[0m \u001b[38;5;66;03m# the program stopping further executions to take place.\u001b[39;00m\n\u001b[1;32m      5\u001b[0m \n\u001b[1;32m      6\u001b[0m \u001b[38;5;66;03m# For E.g.:\u001b[39;00m\n\u001b[1;32m     10\u001b[0m ar \u001b[38;5;241m=\u001b[39m [\u001b[38;5;241m1\u001b[39m,\u001b[38;5;241m2\u001b[39m,\u001b[38;5;241m3\u001b[39m]\n\u001b[0;32m---> 11\u001b[0m \u001b[38;5;28mprint\u001b[39m(\u001b[43mar\u001b[49m\u001b[43m[\u001b[49m\u001b[38;5;241;43m3\u001b[39;49m\u001b[43m]\u001b[49m)\n",
      "\u001b[0;31mIndexError\u001b[0m: list index out of range"
     ]
    }
   ],
   "source": [
    "# Q2. What happens when an exception is not handled ? Explain with an example.\n",
    "\n",
    "# Ans. When an exception is not handled ,it goes into OS trap and Operating System handles it in it's way showing error while executing \n",
    "# the program stopping further executions to take place.\n",
    "\n",
    "# For E.g.:\n",
    "\n",
    "\n",
    "\n",
    "ar = [1,2,3]\n",
    "print(ar[3])\n",
    "# You may observe that IndexError arisen when not dealt within falls into OS trap and our code's execution stops"
   ]
  },
  {
   "cell_type": "code",
   "execution_count": 8,
   "id": "95545843-6e79-4e59-b97e-e822bbc0ec76",
   "metadata": {},
   "outputs": [
    {
     "name": "stdout",
     "output_type": "stream",
     "text": [
      "Index Out of Bound in access\n",
      "In finally block\n"
     ]
    }
   ],
   "source": [
    "# Q3. Which python statements are used to catch and handle exceptions? Explain with example.\n",
    "# Ans. try , catch , finally ,else statements are used to catch and handle exceptions in python.\n",
    "# For E.g.:\n",
    "try:\n",
    "    ar = [1,2,3,4]\n",
    "    print(ar[4])\n",
    "\n",
    "except(IndexError):\n",
    "    print(\"Index Out of Bound in access\")\n",
    "else:\n",
    "    print(\"In else block\")\n",
    "finally:\n",
    "    print(\"In finally block\")"
   ]
  },
  {
   "cell_type": "code",
   "execution_count": 9,
   "id": "ae95f493-d4eb-479a-8255-cb29b4486f4f",
   "metadata": {},
   "outputs": [
    {
     "name": "stdout",
     "output_type": "stream",
     "text": [
      "3\n",
      "In else block\n"
     ]
    }
   ],
   "source": [
    "# Q4. Explain with an example:\n",
    "#     a. try and else\n",
    "#     b. finally\n",
    "#     c. raise\n",
    "# Ans.\n",
    "#try and else\n",
    "# try contains the code to be checked for an error or exception i.e. it contains the code\n",
    "# else contains the code to be excuted in case an error not arises inside the try block\n",
    "\n",
    "# for Example:\n",
    "try:\n",
    "    ar = [1,2,3,4]\n",
    "    print(ar[2])\n",
    "\n",
    "except(IndexError):\n",
    "    print(\"Index Out of Bound in access\")\n",
    "else:\n",
    "    print(\"In else block\")"
   ]
  },
  {
   "cell_type": "code",
   "execution_count": 12,
   "id": "101e9b5c-e6c8-4071-a4d0-b4b589531161",
   "metadata": {},
   "outputs": [
    {
     "name": "stdout",
     "output_type": "stream",
     "text": [
      "This is a custom exception\n"
     ]
    }
   ],
   "source": [
    "'''Q5. What are the custom exceptions in python?Why do we need custom exceptions?Explain with an example.\n",
    "Ans.\n",
    "The exceptions which are defined by user as per its convenience inheriring the exception class defined in python library are known as \n",
    "custom exceptions.\n",
    "We need custom exceptions in order to create exceptions as per own requirements so that the errors will also arise in such a way that \n",
    "is defined by us. It increases readability and makes program user friendly.\n",
    "\n",
    "For E.g:'''\n",
    "class customexception(Exception):\n",
    "    def __init__(self, msg):\n",
    "        self.msg = msg\n",
    "try:\n",
    "    raise customexception(\"This is a custom exception\")\n",
    "except customexception as ce:\n",
    "    print(ce.msg)\n",
    "\n",
    "        "
   ]
  },
  {
   "cell_type": "code",
   "execution_count": 13,
   "id": "b255ca73-ecab-4aae-b780-3781c3f0f17a",
   "metadata": {},
   "outputs": [
    {
     "name": "stdin",
     "output_type": "stream",
     "text": [
      "Enter your age -3\n"
     ]
    },
    {
     "name": "stdout",
     "output_type": "stream",
     "text": [
      "Enter postive age please\n"
     ]
    }
   ],
   "source": [
    "# Q6. Create a custom exception class and use the same to handle an exception.\n",
    "# Ans:\n",
    "class newexception(Exception):\n",
    "    def __init__(self,msg):\n",
    "        self.msg=msg\n",
    "try:\n",
    "    n =int(input(\"Enter your age\"))\n",
    "    if(n<0):\n",
    "        raise newexception('Enter postive age please')\n",
    "except newexception as e:\n",
    "    print(e.msg)\n",
    "    "
   ]
  }
 ],
 "metadata": {
  "kernelspec": {
   "display_name": "Python 3 (ipykernel)",
   "language": "python",
   "name": "python3"
  },
  "language_info": {
   "codemirror_mode": {
    "name": "ipython",
    "version": 3
   },
   "file_extension": ".py",
   "mimetype": "text/x-python",
   "name": "python",
   "nbconvert_exporter": "python",
   "pygments_lexer": "ipython3",
   "version": "3.10.8"
  }
 },
 "nbformat": 4,
 "nbformat_minor": 5
}
