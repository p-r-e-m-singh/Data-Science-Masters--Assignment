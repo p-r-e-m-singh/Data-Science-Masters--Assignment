{
 "cells": [
  {
   "cell_type": "code",
   "execution_count": null,
   "metadata": {},
   "outputs": [],
   "source": [
    "Q1: What is Estimation Statistics? Explain point estimate and interval estimate."
   ]
  },
  {
   "cell_type": "code",
   "execution_count": null,
   "metadata": {},
   "outputs": [],
   "source": [
    "The branch of statistics used to estimate or take on some inference from unknown population parameter.\n",
    "\n",
    "Point Estimate : Single numeriacl value used for this estimation\n",
    "\n",
    "Interval Estimate : Range of values is used for estimation."
   ]
  },
  {
   "cell_type": "code",
   "execution_count": null,
   "metadata": {},
   "outputs": [],
   "source": [
    "Q2. Write a Python function to estimate the population mean using a sample mean and standard\n",
    "deviation."
   ]
  },
  {
   "cell_type": "code",
   "execution_count": 1,
   "metadata": {},
   "outputs": [
    {
     "name": "stdout",
     "output_type": "stream",
     "text": [
      "Estimated population mean (at 95.0% confidence): 75.20\n",
      "Confidence interval: (75.16, 75.24)\n"
     ]
    }
   ],
   "source": [
    "import math\n",
    "\n",
    "def estimate_population_mean(sample_mean, std_deviation, sample_size, confidence_level=0.95):\n",
    "    \"\"\"\n",
    "    Estimate the population mean using the sample mean, standard deviation, and sample size.\n",
    "\n",
    "    Parameters:\n",
    "    - sample_mean: The mean of your sample.\n",
    "    - std_deviation: The standard deviation of your sample.\n",
    "    - sample_size: The size of your sample.\n",
    "    - confidence_level: The desired confidence level (default is 0.95 for 95% confidence).\n",
    "\n",
    "    Returns:\n",
    "    - Tuple containing lower and upper bounds of the estimated population mean.\n",
    "    \"\"\"\n",
    "\n",
    "    # Calculate the margin of error\n",
    "    z_score = abs(math.erf((1 - confidence_level) / 2))\n",
    "    margin_of_error = z_score * (std_deviation / math.sqrt(sample_size))\n",
    "\n",
    "    # Calculate the lower and upper bounds of the confidence interval\n",
    "    lower_bound = sample_mean - margin_of_error\n",
    "    upper_bound = sample_mean + margin_of_error\n",
    "\n",
    "    return (lower_bound, upper_bound)\n",
    "\n",
    "# Example usage:\n",
    "sample_mean = 75.2  # Replace with your sample mean\n",
    "std_deviation = 12.5  # Replace with your sample standard deviation\n",
    "sample_size = 100  # Replace with your sample size\n",
    "confidence_level = 0.95  # Replace with your desired confidence level\n",
    "\n",
    "confidence_interval = estimate_population_mean(sample_mean, std_deviation, sample_size, confidence_level)\n",
    "print(f\"Estimated population mean (at {confidence_level*100}% confidence): {sample_mean:.2f}\")\n",
    "print(f\"Confidence interval: ({confidence_interval[0]:.2f}, {confidence_interval[1]:.2f})\")\n"
   ]
  },
  {
   "cell_type": "code",
   "execution_count": null,
   "metadata": {},
   "outputs": [],
   "source": [
    "Q3: What is Hypothesis testing? Why is it used? State the importance of Hypothesis testing."
   ]
  },
  {
   "cell_type": "code",
   "execution_count": null,
   "metadata": {},
   "outputs": [],
   "source": [
    "The type of testing in which we assume some hypothesis to be true and based on Significance value comparisons , either accept or reject it.\n",
    "\n",
    "Formulating Research Questions: Hypothesis testing helps researchers formulate specific research questions or hypotheses. These hypotheses are statements that propose a relationship between variables or predict the outcome of an experiment.\n",
    "\n",
    "Testing Scientific Theories: Hypothesis testing allows scientists to test existing theories and models. By comparing the observed data to the predictions made by a theory, researchers can determine whether the theory is supported or if there's a need for revision.\n",
    "\n",
    "Data-Driven Decision-Making: In various fields, such as business, medicine, and social sciences, hypothesis testing is used to guide decision-making. It provides a structured approach to assess the impact of changes or interventions and determine whether they have a statistically significant effect.\n",
    "\n",
    "Quality Control: In manufacturing and quality control processes, hypothesis testing is used to ensure that products meet certain standards. For example, it can be used to test whether a new production method results in a significant reduction in defects."
   ]
  },
  {
   "cell_type": "code",
   "execution_count": null,
   "metadata": {},
   "outputs": [],
   "source": [
    "Q4. Create a hypothesis that states whether the average weight of male college students is greater than\n",
    "the average weight of female college students."
   ]
  },
  {
   "cell_type": "code",
   "execution_count": null,
   "metadata": {},
   "outputs": [],
   "source": [
    "Null Hypothesis (H0): The average weight of male college students is equal to or less than the average weight of female college students.\n",
    "\n",
    "Alternative Hypothesis (Ha): The average weight of male college students is greater than the average weight of female college students."
   ]
  },
  {
   "cell_type": "code",
   "execution_count": null,
   "metadata": {},
   "outputs": [],
   "source": [
    "Q5. Write a Python script to conduct a hypothesis test on the difference between two population means, given a sample from each population."
   ]
  },
  {
   "cell_type": "code",
   "execution_count": 5,
   "metadata": {},
   "outputs": [
    {
     "name": "stdout",
     "output_type": "stream",
     "text": [
      "Fail to reject the null hypothesis\n",
      "There is not enough evidence to suggest that the means are different (p-value = 0.053487140284758254)\n"
     ]
    }
   ],
   "source": [
    "import numpy as np\n",
    "from scipy import stats\n",
    "\n",
    "# Sample data for two populations\n",
    "sample1 = np.array([84, 88, 90, 91, 78, 86, 89, 82, 88, 85])\n",
    "sample2 = np.array([75, 80, 82, 79, 92, 81, 78, 86, 79, 87])\n",
    "\n",
    "# Define the significance level (alpha)\n",
    "alpha = 0.05\n",
    "\n",
    "# Perform a two-sample t-test\n",
    "t_stat, p_value = stats.ttest_ind(sample1, sample2)\n",
    "\n",
    "# Check if the p-value is less than alpha to determine significance\n",
    "if p_value < alpha:\n",
    "    print(\"Reject the null hypothesis\")\n",
    "    print(f\"There is enough evidence to suggest that the means are different (p-value = {p_value})\")\n",
    "else:\n",
    "    print(\"Fail to reject the null hypothesis\")\n",
    "    print(f\"There is not enough evidence to suggest that the means are different (p-value = {p_value})\")\n"
   ]
  },
  {
   "cell_type": "code",
   "execution_count": null,
   "metadata": {},
   "outputs": [],
   "source": [
    "Q6: What is a null and alternative hypothesis? Give some examples."
   ]
  },
  {
   "cell_type": "code",
   "execution_count": null,
   "metadata": {},
   "outputs": [],
   "source": [
    "The null hypothesis is a statement of no effect, no difference or no relationship in a statistical hypothesis test.\n",
    "\n",
    "The Alternate Hypothesis is a statement that contradicts NUll hypothesis , or we can say what a researcher wants to detect."
   ]
  },
  {
   "cell_type": "code",
   "execution_count": null,
   "metadata": {},
   "outputs": [],
   "source": [
    "Q7: Write down the steps involved in hypothesis testing."
   ]
  },
  {
   "cell_type": "code",
   "execution_count": null,
   "metadata": {},
   "outputs": [],
   "source": [
    "1. Formulate a null hypothesis (H0) and an alternative hypothesis (Ha).\n",
    "The null hypothesis represents the default assumption or no effect, while the alternative hypothesis represents the claim you want to test.\n",
    "Select the Significance Level (α):\n",
    "\n",
    "2. Choose a significance level (α), which is the threshold for determining statistical significance.\n",
    "Common significance levels include 0.05 (5%) and 0.01 (1%), but the choice depends on the specific research question and the level of confidence desired.\n",
    "Collect Data:\n",
    "\n",
    "3. Gather data through observations, experiments, surveys, or other methods.\n",
    "Ensure that your data collection process is representative and unbiased.\n",
    "Perform Statistical Test:\n",
    "\n",
    "4. Select an appropriate statistical test based on the data type (e.g., t-test, chi-squared test, ANOVA, correlation, regression, etc.) and \n",
    "the research question.\n",
    "Calculate the test statistic, which measures the strength of evidence against the null hypothesis.\n",
    "Determine the Critical Region:\n",
    "\n",
    "5. Define the critical region(s), which is the range of values for the test statistic that would lead to the rejection of the null hypothesis.\n",
    "The critical region is determined based on the chosen significance level and the distribution of the test statistic.\n",
    "Calculate the Test Statistic:\n",
    "\n",
    "6. Compute the test statistic using the sample data and the selected statistical test.\n",
    "This step varies depending on the test used. For example, in a t-test, you calculate the t-statistic.\n",
    "Compare the Test Statistic to Critical Values:\n",
    "\n",
    "7. Compare the calculated test statistic to the critical values (cut-off points) from the appropriate statistical distribution \n",
    "(e.g., t-distribution, chi-squared distribution).\n",
    "If the test statistic falls within the critical region, you reject the null hypothesis.\n",
    "Calculate the P-Value:\n",
    "\n",
    "8. Calculate the p-value, which represents the probability of observing a test statistic as extreme or more extreme than the one calculated, \n",
    "assuming the null hypothesis is true.\n",
    "The p-value is used to make an inference about the null hypothesis.\n",
    "Make a Decision:\n",
    "\n",
    "9. Based on the comparison of the test statistic to critical values or the p-value:\n",
    "If the test statistic falls in the critical region or if the p-value is less than α, reject the null hypothesis.\n",
    "If the test statistic falls outside the critical region or if the p-value is greater than or equal to α, fail to reject the null hypothesis.\n",
    "Draw a Conclusion:\n",
    "\n",
    "10. State your conclusion in the context of the research question.\n",
    "If you rejected the null hypothesis, you can conclude that there is evidence to support the alternative hypothesis.\n",
    "If you failed to reject the null hypothesis, you can conclude that there is not enough evidence to support the alternative hypothesis.\n",
    "\n",
    "Interpret the Results:\n",
    "\n",
    "Interpret the practical implications of your findings.\n",
    "Consider the implications of your results for the specific problem or question you were investigating.\n",
    "Report Findings:\n",
    "\n",
    "Communicate the results of your hypothesis test, including the decision, p-value, and any relevant statistics or effect sizes.\n",
    "Provide context and discuss the implications of the findings."
   ]
  },
  {
   "cell_type": "code",
   "execution_count": null,
   "metadata": {},
   "outputs": [],
   "source": [
    "Q8. Define p-value and explain its significance in hypothesis testing."
   ]
  },
  {
   "cell_type": "code",
   "execution_count": null,
   "metadata": {},
   "outputs": [],
   "source": [
    "P-value is a number calculated from a stastical test , represents the probability of observing a test statistic as extreme or more extreme than the one calculated, \n",
    "assuming the null hypothesis is true."
   ]
  },
  {
   "cell_type": "code",
   "execution_count": null,
   "metadata": {},
   "outputs": [],
   "source": [
    "Q9. Generate a Student's t-distribution plot using Python's matplotlib library, with the degrees of freedom\n",
    "parameter set to 10."
   ]
  },
  {
   "cell_type": "code",
   "execution_count": 1,
   "metadata": {},
   "outputs": [
    {
     "data": {
      "image/png": "[encoded data removed]",
      "text/plain": [
       "<Figure size 800x600 with 1 Axes>"
      ]
     },
     "metadata": {},
     "output_type": "display_data"
    }
   ],
   "source": [
    "import numpy as np\n",
    "import matplotlib.pyplot as plt\n",
    "from scipy.stats import t\n",
    "\n",
    "# Degrees of freedom\n",
    "df = 10\n",
    "\n",
    "# Generate a range of x values\n",
    "x = np.linspace(-3, 3, 1000)\n",
    "\n",
    "# Calculate the probability density function (PDF) for the t-distribution\n",
    "pdf = t.pdf(x, df)\n",
    "\n",
    "# Create the plot\n",
    "plt.figure(figsize=(8, 6))\n",
    "plt.plot(x, pdf, label=f't-Distribution (df={df})', color='b')\n",
    "\n",
    "# Add labels and a legend\n",
    "plt.xlabel('x')\n",
    "plt.ylabel('PDF')\n",
    "plt.title(f'Student\\'s t-Distribution (df={df})')\n",
    "plt.legend()\n",
    "\n",
    "# Display the plot\n",
    "plt.grid(True)\n",
    "plt.show()\n"
   ]
  },
  {
   "cell_type": "code",
   "execution_count": null,
   "metadata": {},
   "outputs": [],
   "source": [
    "Q10. Write a Python program to calculate the two-sample t-test for independent samples, given two\n",
    "random samples of equal size and a null hypothesis that the population means are equal."
   ]
  },
  {
   "cell_type": "code",
   "execution_count": 2,
   "metadata": {},
   "outputs": [
    {
     "name": "stdout",
     "output_type": "stream",
     "text": [
      "Reject the null hypothesis\n",
      "There is enough evidence to suggest that the population means are not equal (p-value = 0.04271922499809598)\n"
     ]
    }
   ],
   "source": [
    "import numpy as np\n",
    "from scipy import stats\n",
    "\n",
    "# Generate two random samples with equal size\n",
    "np.random.seed(42)  # For reproducibility\n",
    "sample_size = 30  # You can change this to your desired sample size\n",
    "\n",
    "sample1 = np.random.normal(loc=70, scale=10, size=sample_size)\n",
    "sample2 = np.random.normal(loc=75, scale=12, size=sample_size)\n",
    "\n",
    "# Define the null hypothesis (H0): Population means are equal\n",
    "# Alternative hypothesis (Ha): Population means are not equal\n",
    "# This is a two-tailed test.\n",
    "alpha = 0.05  # Significance level\n",
    "\n",
    "# Perform the two-sample t-test\n",
    "t_stat, p_value = stats.ttest_ind(sample1, sample2)\n",
    "\n",
    "# Determine whether to reject the null hypothesis\n",
    "if p_value < alpha:\n",
    "    print(\"Reject the null hypothesis\")\n",
    "    print(f\"There is enough evidence to suggest that the population means are not equal (p-value = {p_value})\")\n",
    "else:\n",
    "    print(\"Fail to reject the null hypothesis\")\n",
    "    print(f\"There is not enough evidence to suggest that the population means are not equal (p-value = {p_value})\")\n"
   ]
  },
  {
   "cell_type": "code",
   "execution_count": null,
   "metadata": {},
   "outputs": [],
   "source": [
    "Q11: What is Student’s t distribution? When to use the t-Distribution."
   ]
  },
  {
   "cell_type": "code",
   "execution_count": 3,
   "metadata": {},
   "outputs": [
    {
     "ename": "SyntaxError",
     "evalue": "unterminated string literal (detected at line 1) (900330032.py, line 1)",
     "output_type": "error",
     "traceback": [
      "\u001b[0;36m  Cell \u001b[0;32mIn[3], line 1\u001b[0;36m\u001b[0m\n\u001b[0;31m    Student's t-distribution, often simply referred to as the t-distribution,\u001b[0m\n\u001b[0m           ^\u001b[0m\n\u001b[0;31mSyntaxError\u001b[0m\u001b[0;31m:\u001b[0m unterminated string literal (detected at line 1)\n"
     ]
    }
   ],
   "source": [
    "Student's t-distribution, often simply referred to as the t-distribution,\n",
    "is a probability distribution that is similar to the normal distribution but with heavier tails. \n",
    "\n",
    "its used in case of: \n",
    "Small Sample Size\n",
    "Unkown Population std_deviation\n",
    "Confdence interval"
   ]
  },
  {
   "cell_type": "code",
   "execution_count": null,
   "metadata": {},
   "outputs": [],
   "source": [
    "Q12: What is t-statistic? State the formula for t-statistic."
   ]
  },
  {
   "cell_type": "code",
   "execution_count": null,
   "metadata": {},
   "outputs": [],
   "source": [
    "he t-statistic, also known as the Student's t-statistic, is a statistical measure used to assess the significance of \n",
    "the difference between a sample statistic (typically the sample mean) and a population parameter (often the population mean) \n",
    "when the population standard deviation is unknown or when dealing with small sample sizes.\n",
    "\n"
   ]
  },
  {
   "cell_type": "code",
   "execution_count": null,
   "metadata": {},
   "outputs": [],
   "source": [
    "Q13. A coffee shop owner wants to estimate the average daily revenue for their shop. They take a random\n",
    "sample of 50 days and find the sample mean revenue to be $500 with a standard deviation of $50.\n",
    "Estimate the population mean revenue with a 95% confidence interval."
   ]
  },
  {
   "cell_type": "code",
   "execution_count": null,
   "metadata": {},
   "outputs": [],
   "source": [
    "ans. With 95% confidence , the population mean revenue is estimated to be beteen 485.79 and 514.21."
   ]
  },
  {
   "cell_type": "code",
   "execution_count": null,
   "metadata": {},
   "outputs": [],
   "source": [
    "Q14. A researcher hypothesizes that a new drug will decrease blood pressure by 10 mmHg. They conduct a\n",
    "clinical trial with 100 patients and find that the sample mean decrease in blood pressure is 8 mmHg with a\n",
    "standard deviation of 3 mmHg. Test the hypothesis with a significance level of 0.05."
   ]
  },
  {
   "cell_type": "code",
   "execution_count": null,
   "metadata": {},
   "outputs": [],
   "source": [
    "ans. Since the calculated t-statistic (26.67) is much larger than the critical value (1.984), you can reject the null hypothesis."
   ]
  },
  {
   "cell_type": "code",
   "execution_count": null,
   "metadata": {},
   "outputs": [],
   "source": [
    "Q15. An electronics company produces a certain type of product with a mean weight of 5 pounds and a\n",
    "standard deviation of 0.5 pounds. A random sample of 25 products is taken, and the sample mean weight\n",
    "is found to be 4.8 pounds. Test the hypothesis that the true mean weight of the products is less than 5\n",
    "pounds with a significance level of 0.01."
   ]
  },
  {
   "cell_type": "code",
   "execution_count": null,
   "metadata": {},
   "outputs": [],
   "source": [
    "ans. Since the calculated t-statistic (-2) is greater (in the negative direction) than the critical value (-2.4922), you can reject the null hypothesis . This means that there is strong evidence to suggest that the true mean weight of the products is less than 5 pounds at the 0.01 significance level."
   ]
  },
  {
   "cell_type": "code",
   "execution_count": null,
   "metadata": {},
   "outputs": [],
   "source": [
    "Q16. Two groups of students are given different study materials to prepare for a test. The first group (n1 =\n",
    "30) has a mean score of 80 with a standard deviation of 10, and the second group (n2 = 40) has a mean\n",
    "score of 75 with a standard deviation of 8. Test the hypothesis that the population means for the two\n",
    "groups are equal with a significance level of 0.01."
   ]
  },
  {
   "cell_type": "code",
   "execution_count": null,
   "metadata": {},
   "outputs": [],
   "source": [
    "ans. Since the calculated t-statistic (4.609) is greater (in the positive direction) than the critical value (2.6177), \n",
    "you can reject the null hypothesis . This means that there is strong evidence to suggest that the population means \n",
    "for the two groups are not equal at the 0.01 significance level."
   ]
  },
  {
   "cell_type": "code",
   "execution_count": null,
   "metadata": {},
   "outputs": [],
   "source": [
    "Q17. A marketing company wants to estimate the average number of ads watched by viewers during a TV\n",
    "program. They take a random sample of 50 viewers and find that the sample mean is 4 with a standard\n",
    "deviation of 1.5. Estimate the population mean with a 99% confidence interval."
   ]
  },
  {
   "cell_type": "code",
   "execution_count": null,
   "metadata": {},
   "outputs": [],
   "source": [
    "ans. So, with 99% confidence, the population mean number of ads watched by \n",
    "viewers during a TV program is estimated to be between approximately 3.698 and 4.302."
   ]
  }
 ],
 "metadata": {
  "kernelspec": {
   "display_name": "Python 3",
   "language": "python",
   "name": "python3"
  },
  "language_info": {
   "codemirror_mode": {
    "name": "ipython",
    "version": 3
   },
   "file_extension": ".py",
   "mimetype": "text/x-python",
   "name": "python",
   "nbconvert_exporter": "python",
   "pygments_lexer": "ipython3",
   "version": "3.10.8"
  },
  "orig_nbformat": 4
 },
 "nbformat": 4,
 "nbformat_minor": 2
}
