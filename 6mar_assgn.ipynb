{
 "cells": [
  {
   "cell_type": "markdown",
   "id": "facf9de9-decd-495e-89ed-1c8676319f92",
   "metadata": {},
   "source": [
    "Q1. What is Statistics?"
   ]
  },
  {
   "cell_type": "raw",
   "id": "c4cfd7e0-b717-4cbe-bb6c-4e6da228734a",
   "metadata": {},
   "source": [
    "The process of collection , organization and summarization of numerical information to make inferences , draw conclusions and support decision making processes."
   ]
  },
  {
   "cell_type": "markdown",
   "id": "a9e825ed-b958-4d23-8ef8-7a1d656ee474",
   "metadata": {},
   "source": [
    "Q2. Define the different types of statistics and give an example of when each type might be used."
   ]
  },
  {
   "cell_type": "raw",
   "id": "b99b4ef5-60db-4044-9594-440897a188e4",
   "metadata": {},
   "source": [
    "Descriptive Statistics : finding average age of customers in a marketing study\n",
    "\n",
    "Inferential Statistics : predicting the winning party from exit poll data\n",
    "\n",
    "Hypothesis Testing : Predicting if a drug is effective in treating a disease\n",
    "\n",
    "Regression Analysis : predicting the relation between company's sales revenue and factors like advertisement expenditure , pricing etc.\n",
    "\n",
    "Time-Series Analysis : Predicting stock prices from past data of stock - prizes"
   ]
  },
  {
   "cell_type": "markdown",
   "id": "e8c9b68e-bbc2-4de0-9bd6-c17c68d01d1a",
   "metadata": {},
   "source": [
    "Q3. What are the different types of data and how do they differ from each other? Provide an example of\n",
    "each type of data."
   ]
  },
  {
   "cell_type": "raw",
   "id": "6cc62226-a378-494e-aac3-b57aed201bbf",
   "metadata": {},
   "source": [
    "Different types of Data are : \n",
    "    -> Nominal Data : colors(Blue, Black, Red)\n",
    "    -> Ordinal Data : Ranking of Movie(1 star , 2star , 3 star)\n",
    "    -> Interval Data : Temperature Interval(10*C - 20*C)\n",
    "    -> Ratio Data : Height and Weight\n",
    "    -> Discrete Data : Number of students in a classroom\n",
    "    -> Continous Data : Weight measured on a scale"
   ]
  },
  {
   "cell_type": "markdown",
   "id": "3ad9feb7-e5ea-4a8b-8df2-2d81c908ea91",
   "metadata": {},
   "source": [
    "Q4. Categorise the following datasets with respect to quantitative and qualitative data types:\n",
    "(i) Grading in exam: A+, A, B+, B, C+, C, D, E\n",
    "(ii) Colour of mangoes: yellow, green, orange, red\n",
    "(iii) Height data of a class: [178.9, 179, 179.5, 176, 177.2, 178.3, 175.8,...]\n",
    "(iv) Number of mangoes exported by a farm: [500, 600, 478, 672, ...]"
   ]
  },
  {
   "cell_type": "raw",
   "id": "74dff653-387c-4cf3-bc63-cf5629143980",
   "metadata": {},
   "source": [
    "1 -> Qualitative Data\n",
    "2 -> Qualitative Data\n",
    "3 -> Quantitative Data\n",
    "4 -> Quantitative Data"
   ]
  },
  {
   "cell_type": "markdown",
   "id": "c0dc15ed-945f-458c-9f98-79597433c45c",
   "metadata": {},
   "source": [
    "Q5. Explain the concept of levels of measurement and give an example of a variable for each level."
   ]
  },
  {
   "cell_type": "raw",
   "id": "00c2c032-6856-474b-b726-86ed1bceaad1",
   "metadata": {},
   "source": [
    "The concept of levels of measurement refers to different ways in which data can be classified or categorized based on the properties and characteristics of the variables being measured.\n",
    "Nominal level : Political Affiliation(Democrat, Republican,Independant)\n",
    "Ordinal level : Educational Attainment(Elementary, Middle , High)\n",
    "Interval level : Temperature Interval( 10*C to 30*C)\n",
    "Ratio level : Height , weight and income"
   ]
  },
  {
   "cell_type": "markdown",
   "id": "d20081e3-5973-4b7c-8fde-d706437276f5",
   "metadata": {},
   "source": [
    "Q6. Why is it important to understand the level of measurement when analyzing data? Provide an\n",
    "example to illustrate your answer."
   ]
  },
  {
   "cell_type": "raw",
   "id": "209741da-abfd-4a76-8420-ae1f5fdbf18e",
   "metadata": {},
   "source": [
    "understanding the level of measurement is essential for selecting appropriate statistical techniques, interpreting variables accurately, summarizing and visualizing data effectively, making valid comparisons, and facilitating informed decision making based on the analysis results. It ensures that the analysis is conducted appropriately and the conclusions drawn are valid and reliable."
   ]
  },
  {
   "cell_type": "markdown",
   "id": "38544bd4-e9a5-4599-a67c-ed4b2234746c",
   "metadata": {},
   "source": [
    "Q7. How nominal data type is different from ordinal data type."
   ]
  },
  {
   "cell_type": "raw",
   "id": "8a968b20-5948-469a-a21a-690ac9330bb8",
   "metadata": {},
   "source": [
    "The nominal and ordinal data involve categorization, the key difference lies in the presence of an inherent order or ranking. Nominal data lacks an order, and the categories are simply distinct labels, whereas ordinal data has a meaningful order among the categories, representing their relative position or rank."
   ]
  },
  {
   "cell_type": "markdown",
   "id": "054d5ada-b0f3-42d7-a40c-e85950db6476",
   "metadata": {},
   "source": [
    "Q8. Which type of plot can be used to display data in terms of range?"
   ]
  },
  {
   "cell_type": "raw",
   "id": "b1f15a88-3ca6-47ad-8f54-148da12c5658",
   "metadata": {},
   "source": [
    "Box-Plot"
   ]
  },
  {
   "cell_type": "markdown",
   "id": "7a3daf8f-aa25-41e9-b258-fb910b0f6664",
   "metadata": {},
   "source": [
    "Q9. Describe the difference between descriptive and inferential statistics. Give an example of each\n",
    "type of statistics and explain how they are used."
   ]
  },
  {
   "cell_type": "raw",
   "id": "637dd400-1330-49c1-907e-adb0996e063f",
   "metadata": {},
   "source": [
    "Descriptive Statistics : It is used to summarize and describe the main features of data such as measures of central tendency.\n",
    "For E.g. : finding average age of customers in a marketing study\n",
    "\n",
    "Inferential Statistics : This deals with making inferences from a population based on a sample .\n",
    "For E.g. : predicting the winning party from exit poll data"
   ]
  },
  {
   "cell_type": "markdown",
   "id": "597153df-985d-4807-bc7e-39cf205719ee",
   "metadata": {},
   "source": [
    "Q10. What are some common measures of central tendency and variability used in statistics? Explain\n",
    "how each measure can be used to describe a dataset."
   ]
  },
  {
   "cell_type": "raw",
   "id": "94c757e0-0b9c-4972-9412-969d1f9d2619",
   "metadata": {},
   "source": [
    "There are three common measures of central tendency Mean, Median and Mode\n",
    "\n",
    "Mean : used to describe average value of a dataset.\n",
    "Median : used to describe the middle value of dataset\n",
    "Mode: used to describe the most repeated value of a dataset"
   ]
  },
  {
   "cell_type": "code",
   "execution_count": null,
   "id": "4a428917-9271-4636-ae22-be22b1129f04",
   "metadata": {},
   "outputs": [],
   "source": []
  }
 ],
 "metadata": {
  "kernelspec": {
   "display_name": "Python 3 (ipykernel)",
   "language": "python",
   "name": "python3"
  },
  "language_info": {
   "codemirror_mode": {
    "name": "ipython",
    "version": 3
   },
   "file_extension": ".py",
   "mimetype": "text/x-python",
   "name": "python",
   "nbconvert_exporter": "python",
   "pygments_lexer": "ipython3",
   "version": "3.10.8"
  }
 },
 "nbformat": 4,
 "nbformat_minor": 5
}
