{
 "cells": [
  {
   "cell_type": "code",
   "execution_count": null,
   "id": "6c58e02f-56fd-47f5-9432-a6cfa755affa",
   "metadata": {},
   "outputs": [],
   "source": [
    "Q1. What is Flask Framework? What are the advantages of Flask Framework?\n",
    "Ans. Flask is a python based web-development app/framework used to build webpages quickly and efficiently.\n",
    "Advantages of using Flask framerwork is :\n",
    "     - It has a built in development server and debugger making it easy to test and debug smoothly.\n",
    "     - Flexibility : It provides user the flexibility to develop the web based application as per \n",
    "    his/her convenience and modularity is a value addition to this.\n",
    "     - Flask is a powerful and versatile framework that can be used to build the variety of applications."
   ]
  },
  {
   "cell_type": "markdown",
   "id": "6034393e-3bb0-4381-9859-e3ef4c4d943c",
   "metadata": {},
   "source": [
    "Q2. Create a simple Flask application to display ‘Hello World!!’. Attach the screenshot of the output in Jupyter Notebook.\n",
    "Ans. ![alt text](flaskss.PNG)"
   ]
  },
  {
   "cell_type": "code",
   "execution_count": null,
   "id": "df73258e-c3b3-4dd1-8ea3-05423cdd1f6a",
   "metadata": {},
   "outputs": [],
   "source": [
    "Q3. What is App routing in Flask? Why do we use app routes?\n",
    "Ans. In Flask, app routing is basically mapping a url to some defined functions which can handle the\n",
    "URL in whatsoever way defined.\n",
    "app routes is used to collect data from users and pass it to the inner defined functions as an argument .\n"
   ]
  },
  {
   "cell_type": "markdown",
   "id": "2217300e-b50f-43e7-ab77-1501f95883c1",
   "metadata": {},
   "source": [
    "Q4. Create a “/welcome” route to display the welcome message “Welcome to ABC Corporation” and a “/”\n",
    "route to show the following details:\n",
    "Company Name: ABC Corporation\n",
    "Location: India\n",
    "Contact Detail: 999-999-9999\n",
    "Attach the screenshot of the output in Jupyter Notebook.\n",
    "Ans. \n",
    "![alt text](ss1.PNG)\n",
    "![alt text](ss2.PNG)"
   ]
  },
  {
   "cell_type": "code",
   "execution_count": null,
   "id": "e546101f-9cc2-4098-9623-1b58909663bb",
   "metadata": {},
   "outputs": [],
   "source": [
    "Q5. What function is used in Flask for URL Building? Write a Python code to demonstrate the working of the\n",
    "url_for() function.\n",
    "ANs. The urljoin() function is used for url building in flask.\n",
    "Code:\n",
    "from flask import Flask , url_for\n",
    "\n",
    "app = Flask(__name__)\n",
    "\n",
    "@app.route(\"/\")\n",
    "def hello_world():\n",
    "    return \"Company Name: ABC Corporation <br/>Location: India<br/>Contact Detail: 999-999-9999\"\n",
    "\n",
    "@app.route(\"/welcome\")\n",
    "def welcome_msg():\n",
    "    return \"<h1>Welcome to ABC Corporation</h1>\"\n",
    "\n",
    "@app.route(\"/greeting\")\n",
    "def greet():\n",
    "    return \"<h2>Welcome my friend! nice to meet you</h2>\"\n",
    "\n",
    "with app.test_request_context():\n",
    "    # generate URLs using url_for\n",
    "    print(url_for('hello_world'))\n",
    "    print(url_for('welcome_msg'))\n",
    "    print(url_for('greet'))\n",
    "if __name__==\"__main__\":\n",
    "    app.run(host=\"0.0.0.0\")\n",
    "\n"
   ]
  }
 ],
 "metadata": {
  "kernelspec": {
   "display_name": "Python 3 (ipykernel)",
   "language": "python",
   "name": "python3"
  },
  "language_info": {
   "codemirror_mode": {
    "name": "ipython",
    "version": 3
   },
   "file_extension": ".py",
   "mimetype": "text/x-python",
   "name": "python",
   "nbconvert_exporter": "python",
   "pygments_lexer": "ipython3",
   "version": "3.10.8"
  }
 },
 "nbformat": 4,
 "nbformat_minor": 5
}
