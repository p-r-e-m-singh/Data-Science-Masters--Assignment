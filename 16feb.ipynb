{
 "cells": [
  {
   "cell_type": "code",
   "execution_count": null,
   "id": "14d1579c-69d1-4304-a87a-602460192640",
   "metadata": {},
   "outputs": [],
   "source": [
    "Q1. What is a database? Differentiate between SQL and NoSQL databases.\n",
    "Ans. A database is a storage house of data , which can be stored in structured as well as\n",
    "un-structured format.\n",
    "SQL: \n",
    "    -Stands for Structured Query Language\n",
    "    -data is stored as per proper schema defined to store in.\n",
    "    -For e.g: MySQL,SQLite etc.\n",
    "NoSQL:\n",
    "    -Stands for Not Only SQL\n",
    "    -there is a value addition to SQL in which any type of data can be stored in anytype of json file.\n",
    "    -For e.g: MongoDB"
   ]
  },
  {
   "cell_type": "code",
   "execution_count": null,
   "id": "7104182f-6770-460f-83e5-73473483afa9",
   "metadata": {},
   "outputs": [],
   "source": [
    "Q2. What is DDL? Explain why CREATE, DROP, ALTER, and TRUNCATE are used with an example.\n",
    "Ans. DDL stands for Data Defintion Language. They are basically used to define/manipulate the database\n",
    "    or the base structure of a table.\n",
    "    \n",
    "    CREATE command is used to create a table in a database.\n",
    "    DROP command is used to drop/delete a database\n",
    "    ALTER command is used to modify the structure of a existing database table\n",
    "    TRUNCATE command is used to delete all the entries/row of a table keeping the schema safe.\n",
    "    "
   ]
  },
  {
   "cell_type": "code",
   "execution_count": null,
   "id": "b8b6e89e-1ea8-4693-bbf5-32d3ead2aebc",
   "metadata": {},
   "outputs": [],
   "source": [
    "Q3. What is DML? Explain INSERT, UPDATE, and DELETE with an example.\n",
    "Ans. DML stands for Data Manipulation Language , used to manipulate data/entries of a table.\n",
    "\n",
    "    INSERT command is used to insert entries into a table.\n",
    "    \n",
    "    UPDATE command is used to update entries of a table.\n",
    "    \n",
    "    DELETE command is used to delete entries of a table."
   ]
  },
  {
   "cell_type": "code",
   "execution_count": null,
   "id": "84cdf3bb-d0bc-4df0-af94-86b06e73dbd9",
   "metadata": {},
   "outputs": [],
   "source": [
    "Q4. What is DQL? Explain SELECT with an example.\n",
    "Ans. DQL stands for Data Query Language , used to retrieve data from databse tables.\n",
    "\n",
    "SELECT is used to select specific entries from a table as per condition provide.\n",
    "    For E.g.\n",
    "    SELECT * FROM TABLE1;\n",
    "    this will fetch the complete table TABLE1 , and will display it on output."
   ]
  },
  {
   "cell_type": "code",
   "execution_count": null,
   "id": "824c7de0-d8c9-4f37-8080-ede06f6d57ba",
   "metadata": {},
   "outputs": [],
   "source": [
    "Q5. Explain Primary Key and Foreign Key.\n",
    "Ans. Primary Key is one of the attribute in a table which uniquely identifies each entry in a table.\n",
    "\n",
    "Foreign Key : A Non-primary attribute in a table which is a primary key in another table, is known as foreign key.\n"
   ]
  },
  {
   "cell_type": "code",
   "execution_count": null,
   "id": "61c0576e-54e7-4170-bac8-dd3105928858",
   "metadata": {},
   "outputs": [],
   "source": [
    "# Q6. Write a python code to connect MySQL to python. Explain the cursor() and execute() method.\n",
    "# Ans. \n",
    "import mysql.connector\n",
    "mydb = mysql.connector.connect(\n",
    "    host = \"localhost\",\n",
    "    user=\"abc\",\n",
    "    passwd=\"password\"\n",
    ")\n",
    "mycur = mydb.cursor()\n",
    "mycur.execute(\"SHOW DATABASES\")\n",
    "\n",
    "- The cursor() function is used to assign a cursor to a python variable which can be used to execute \n",
    "a mysql code.\n",
    "\n",
    "- The execute() function is used to execute a mysql query from a python file."
   ]
  },
  {
   "cell_type": "code",
   "execution_count": null,
   "id": "7d853e82-0199-4b5c-864f-859bc6514750",
   "metadata": {},
   "outputs": [],
   "source": [
    "Q7. Give the order of execution of SQL clauses in an SQL query.\n",
    "Ans.\n",
    "FROM - specifies the table or tables from which to retrieve data.\n",
    "WHERE - filters data based on certain conditions.\n",
    "GROUP BY - groups data based on one or more columns.\n",
    "HAVING - filters grouped data based on certain conditions.\n",
    "SELECT - retrieves data from one or more tables and specifies the columns to be included in the query result.\n",
    "DISTINCT - eliminates duplicate rows from the query result.\n",
    "ORDER BY - sorts data based on one or more columns.\n",
    "LIMIT - limits the number of rows returned by the query."
   ]
  }
 ],
 "metadata": {
  "kernelspec": {
   "display_name": "Python 3 (ipykernel)",
   "language": "python",
   "name": "python3"
  },
  "language_info": {
   "codemirror_mode": {
    "name": "ipython",
    "version": 3
   },
   "file_extension": ".py",
   "mimetype": "text/x-python",
   "name": "python",
   "nbconvert_exporter": "python",
   "pygments_lexer": "ipython3",
   "version": "3.10.8"
  }
 },
 "nbformat": 4,
 "nbformat_minor": 5
}
