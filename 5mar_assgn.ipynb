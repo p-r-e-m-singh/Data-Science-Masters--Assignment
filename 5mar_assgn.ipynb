{
 "cells": [
  {
   "cell_type": "markdown",
   "id": "0c434078-ee49-4bd9-9254-322f2aec43ac",
   "metadata": {},
   "source": [
    "Q1. How can you create a Bokeh plot using Python code?"
   ]
  },
  {
   "cell_type": "raw",
   "id": "47a4a835-6110-40f2-88d9-1cc8dda98354",
   "metadata": {},
   "source": [
    "Step 1 : import Bokeh modules like figure and show using import command\n",
    "step 2 : take dataset\n",
    "step 3 : Define a figure\n",
    "step 4 : Define a shape\n",
    "step 5: Use show module to disply the plot\n",
    "\n"
   ]
  },
  {
   "cell_type": "code",
   "execution_count": 6,
   "id": "a91a55b7-af19-4a39-8caa-1759e45561c4",
   "metadata": {},
   "outputs": [],
   "source": [
    "from bokeh.plotting import figure,show\n",
    "x = [1, 2, 3, 4, 5]\n",
    "y = [2, 4, 6, 8, 10]\n",
    "p = figure(title='Scatter Plot', x_axis_label='X', y_axis_label='Y')\n",
    "p.circle(x, y, size=10, color='red', alpha=0.5)\n",
    "show(p)"
   ]
  },
  {
   "cell_type": "markdown",
   "id": "6592e2b2-dd1f-432d-ad32-e260bc483fd1",
   "metadata": {},
   "source": [
    "Q2. What are glyphs in Bokeh, and how can you add them to a Bokeh plot? Explain with an example."
   ]
  },
  {
   "cell_type": "raw",
   "id": "9b64f9eb-485b-4bcc-a6fd-b362724f60bd",
   "metadata": {},
   "source": [
    "Glyphs are symbols used to represent datapoints in a plot.\n",
    "\n",
    "As used above Circle can be used a glyph to mark datapoints additionally Square,line multiline , patch , wedge, image etc vould also be used for the same."
   ]
  },
  {
   "cell_type": "code",
   "execution_count": 8,
   "id": "8bdc763b-187f-44d8-9f2f-c4aca27b00db",
   "metadata": {},
   "outputs": [],
   "source": [
    "from bokeh.plotting import figure,show\n",
    "x = [1, 2, 3, 4, 5]\n",
    "y = [2, 4, 6, 8, 10]\n",
    "p = figure(title='Scatter Plot', x_axis_label='X', y_axis_label='Y')\n",
    "p.square(x, y, size=10, color='red', alpha=0.5)\n",
    "show(p)"
   ]
  },
  {
   "cell_type": "markdown",
   "id": "01d0e3da-f6a9-4ea6-8788-24bfdd2e21ab",
   "metadata": {},
   "source": [
    "Q3. How can you customize the appearance of a Bokeh plot, including the axes, title, and legend?"
   ]
  },
  {
   "cell_type": "code",
   "execution_count": 10,
   "id": "d5c3ca96-f7b5-4117-a25d-d3f935b4dd65",
   "metadata": {},
   "outputs": [],
   "source": [
    "p = figure(title='Scatter Plot', x_axis_label='X', y_axis_label='Y',legend = 'X_YPlot')"
   ]
  },
  {
   "cell_type": "markdown",
   "id": "9a0d43fd-6893-4073-9818-9396aed77c93",
   "metadata": {},
   "source": [
    "Q4. What is a Bokeh server, and how can you use it to create interactive plots that can be updated in\n",
    "real time?"
   ]
  },
  {
   "cell_type": "raw",
   "id": "a947f874-db50-41c4-9397-bd2e57497899",
   "metadata": {},
   "source": [
    "The Bokeh Server enables you to deploy and serve your Bokeh visualizations as standalone web applications. With Bokeh Server, you can create dynamic and interactive plots that respond to user interactions or updates in real-time."
   ]
  },
  {
   "cell_type": "markdown",
   "id": "44cd1fef-912b-42d6-b336-cda9dcfd5c17",
   "metadata": {},
   "source": [
    "Q5. How can you embed a Bokeh plot into a web page or dashboard using Flask or Django?"
   ]
  },
  {
   "cell_type": "raw",
   "id": "6b8c935d-4938-4b6d-82e2-1710d44f5b55",
   "metadata": {},
   "source": [
    "Flask Integration:\n",
    "\n",
    "Create a Flask application: Set up a Flask application by creating a new Python file or modifying an existing one.\n",
    "Import the necessary modules: Import the required modules, including flask and bokeh.\n",
    "Create a Flask route: Define a Flask route that will render the HTML template containing the Bokeh plot.\n",
    "Generate the Bokeh plot in the route: Inside the route, generate the Bokeh plot using the previously created code.\n",
    "Pass the plot to the template: Pass the plot object to the HTML template as a variable.\n",
    "Create an HTML template: Create an HTML template that will display the Bokeh plot. Use the {{ }} syntax to embed the plot variable in the template.\n",
    "Render the template: Render the HTML template in the Flask route, passing the plot variable to the template.\n",
    "Django Integration:\n",
    "\n",
    "Create a Django application: Set up a Django application by creating a new app or modifying an existing one.\n",
    "Define a Django view: Create a view function that generates the Bokeh plot using the previously created code.\n",
    "Pass the plot to the template: Pass the plot object to the template as a context variable.\n",
    "Create an HTML template: Create an HTML template that will display the Bokeh plot. Use the Django template syntax to embed the plot variable in the template.\n",
    "Define a URL pattern: Add a URL pattern in the Django app's urls.py file that maps to the view function.\n",
    "Render the template: Inside the view function, render the HTML template, passing the context variable."
   ]
  },
  {
   "cell_type": "code",
   "execution_count": null,
   "id": "831170ab-eba8-4f3b-a067-ecefeadf1613",
   "metadata": {},
   "outputs": [],
   "source": []
  }
 ],
 "metadata": {
  "kernelspec": {
   "display_name": "Python 3 (ipykernel)",
   "language": "python",
   "name": "python3"
  },
  "language_info": {
   "codemirror_mode": {
    "name": "ipython",
    "version": 3
   },
   "file_extension": ".py",
   "mimetype": "text/x-python",
   "name": "python",
   "nbconvert_exporter": "python",
   "pygments_lexer": "ipython3",
   "version": "3.10.8"
  }
 },
 "nbformat": 4,
 "nbformat_minor": 5
}
