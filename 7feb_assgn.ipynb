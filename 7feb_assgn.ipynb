{
 "cells": [
  {
   "cell_type": "code",
   "execution_count": 16,
   "id": "3a535897-06a0-4b9a-80f5-8cd1fc71fa5a",
   "metadata": {},
   "outputs": [
    {
     "name": "stdout",
     "output_type": "stream",
     "text": [
      "Valid Password\n"
     ]
    }
   ],
   "source": [
    "# Q1. You are writing code for a company. The requirement of the company is that you create a python\n",
    "# function that will check whether the password entered by the user is correct or not. The function should\n",
    "# take the password as input and return the string “Valid Password” if the entered password follows the\n",
    "# below-given password guidelines else it should return “Invalid Password”.\n",
    "# Note: 1. The Password should contain at least two uppercase letters and at least two lowercase letters.\n",
    "# 2. The Password should contain at least a number and three special characters.\n",
    "# 3. The length of the password should be 10 characters long.\n",
    "# import string\n",
    "\n",
    "def is_special_character(char):\n",
    "    special_chars = string.punctuation\n",
    "    return char in special_chars\n",
    "\n",
    "def password_valid(passwd:str):\n",
    "    uc=0\n",
    "    lc=0\n",
    "    nc=0\n",
    "    specialc = 0\n",
    "    if(len(passwd)!=10):\n",
    "        return \"Invalid Password\"\n",
    "    else:\n",
    "        for i in passwd:\n",
    "            if(i.isupper()):\n",
    "                uc += 1\n",
    "            elif(i.islower()):\n",
    "                lc += 1\n",
    "            elif(i.isnumeric()):\n",
    "                nc += 1\n",
    "            elif(is_special_character(i)):\n",
    "                specialc += 1\n",
    "        if(uc>=2 and lc>=2 and nc>=1 and specialc>=3):\n",
    "            return \"Valid Password\"\n",
    "        else:\n",
    "            return \"Invalid Password\"\n",
    "            \n",
    "print(password_valid(\"ABcd_-__12\"))"
   ]
  },
  {
   "cell_type": "code",
   "execution_count": 1,
   "id": "5d926ddd-01ae-4cd1-a0bb-7d8ea228b685",
   "metadata": {},
   "outputs": [
    {
     "name": "stdout",
     "output_type": "stream",
     "text": [
      "True\n"
     ]
    }
   ],
   "source": [
    "#To check 1st letter of string\n",
    "check = lambda string,letter :   True if(string[0]==letter) else False\n",
    "part1 = check(\"Rolex\",'R')\n",
    "print(part1)"
   ]
  },
  {
   "cell_type": "code",
   "execution_count": 2,
   "id": "8535e070-d76a-469f-9c95-3de66b3b7723",
   "metadata": {},
   "outputs": [
    {
     "name": "stdout",
     "output_type": "stream",
     "text": [
      "True\n"
     ]
    }
   ],
   "source": [
    "#To check if a string is numeric\n",
    "string  = \"124\"\n",
    "part2 = lambda string: True if(string.isnumeric()) else False\n",
    "print(part2(string))"
   ]
  },
  {
   "cell_type": "code",
   "execution_count": 3,
   "id": "f8939aa8-0b30-46cf-93b8-9bfe82e403ce",
   "metadata": {},
   "outputs": [
    {
     "name": "stdout",
     "output_type": "stream",
     "text": [
      "[('orange', 80), ('mango', 99), ('grapes', 1000)]\n"
     ]
    }
   ],
   "source": [
    "#Sort a list of tuples having fruit names and their quantity. [(\"mango\",99),(\"orange\",80), (\"grapes\", 1000)\n",
    "fruits =[(\"mango\",99),(\"orange\",80), (\"grapes\", 1000)]\n",
    "sorted_fruits = sorted(fruits, key=lambda x: x[1])\n",
    "print(sorted_fruits)"
   ]
  },
  {
   "cell_type": "code",
   "execution_count": 4,
   "id": "778e7d0e-3818-4796-9599-b0255152b74d",
   "metadata": {},
   "outputs": [
    {
     "name": "stdout",
     "output_type": "stream",
     "text": [
      "[1, 4, 9, 16, 25, 36, 49, 64, 81, 100]\n"
     ]
    }
   ],
   "source": [
    "#Find the squares of numbers from 1 to 10\n",
    "lis = [x**2 for x in range(1,11)]\n",
    "print(lis)"
   ]
  },
  {
   "cell_type": "code",
   "execution_count": 5,
   "id": "f95acf91-3ffd-41a8-8bd7-8bd8d367ab9a",
   "metadata": {},
   "outputs": [
    {
     "name": "stdout",
     "output_type": "stream",
     "text": [
      "[1, 8, 27, 64, 125, 216, 343, 512, 729, 1000]\n"
     ]
    }
   ],
   "source": [
    "#Find the cube root of numbers from 1 to 10\n",
    "one2ten = [1,2,3,4,5,6,7,8,9,10]\n",
    "lis3 = map(lambda x: x**3,one2ten)\n",
    "print(list(lis3))"
   ]
  },
  {
   "cell_type": "code",
   "execution_count": 6,
   "id": "14c17342-ab19-458f-94b2-c5c75658b095",
   "metadata": {},
   "outputs": [
    {
     "name": "stdout",
     "output_type": "stream",
     "text": [
      "False\n"
     ]
    }
   ],
   "source": [
    "#Check if a given number is even\n",
    "checkeven = lambda num : True if(num%2==0) else False\n",
    "print(checkeven(5))"
   ]
  },
  {
   "cell_type": "code",
   "execution_count": 7,
   "id": "0e73f1aa-0c3e-4341-9e42-eb99b60e732e",
   "metadata": {},
   "outputs": [
    {
     "name": "stdout",
     "output_type": "stream",
     "text": [
      "[1, 3, 5, 7, 9]\n"
     ]
    }
   ],
   "source": [
    "#Filter odd numbers from the given list : [1,2,3,4,5,6,7,8,9,10]\n",
    "lis = [1,2,3,4,5,6,7,8,9,10]\n",
    "newli = filter(lambda x: x if(x%2!=0) else None ,lis)\n",
    "print(list(newli))"
   ]
  },
  {
   "cell_type": "code",
   "execution_count": 8,
   "id": "99a23b67-a795-4d66-a5d6-660f7f8cb425",
   "metadata": {},
   "outputs": [
    {
     "name": "stdout",
     "output_type": "stream",
     "text": [
      "Positive Sorted Array : [1, 2, 3, 4, 5, 6]\n",
      "Negative Sorted Array : [-5, -4, -3, -2, -1]\n"
     ]
    }
   ],
   "source": [
    "#Sort a list of integers into positive and negative integers lists : [1,2,3,4,5,6,-1,-2,-3,-4,-5,0]\n",
    "numar = [1,2,3,4,5,6,-1,-2,-3,-4,-5,0]\n",
    "poslist = list(filter(lambda x: x if(x>=0) else None ,numar))\n",
    "neglist = list(filter(lambda x: x if(x<0) else None ,numar))\n",
    "poslist.sort()\n",
    "neglist.sort()\n",
    "print(\"Positive Sorted Array :\",list(poslist))\n",
    "print(\"Negative Sorted Array :\",list(neglist))"
   ]
  }
 ],
 "metadata": {
  "kernelspec": {
   "display_name": "Python 3 (ipykernel)",
   "language": "python",
   "name": "python3"
  },
  "language_info": {
   "codemirror_mode": {
    "name": "ipython",
    "version": 3
   },
   "file_extension": ".py",
   "mimetype": "text/x-python",
   "name": "python",
   "nbconvert_exporter": "python",
   "pygments_lexer": "ipython3",
   "version": "3.10.8"
  }
 },
 "nbformat": 4,
 "nbformat_minor": 5
}
