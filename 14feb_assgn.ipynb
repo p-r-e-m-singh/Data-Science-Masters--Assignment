{
 "cells": [
  {
   "cell_type": "code",
   "execution_count": null,
   "id": "9b570826-b2e3-4dd2-9fb1-bb5c4a85dc82",
   "metadata": {},
   "outputs": [],
   "source": [
    "Q1. What is multithreading in python?Why is it used? Name the module used to handle threads in python\n",
    "Ans. The process of running different tasks in a process assigning them a time frame to execute within , is known as multithreading\n",
    "in python. It is used to execute multiple tasks concurrently/simultaneously resulting in fast processing of data.\n",
    "The threading module is used to handle threads in python.\n"
   ]
  },
  {
   "cell_type": "code",
   "execution_count": null,
   "id": "2914ece6-d5d6-4b03-a022-2471d143e8d1",
   "metadata": {},
   "outputs": [],
   "source": [
    "Q2. Why threading module is used? rite the use of the following functions\n",
    "( 1. activeCount()\n",
    " 2. currentThread()\n",
    " 3. enumerate())\n",
    "Ans. Threading module provides a way to create and manage threads , so that multiple tasks can be executed concurrently.\n",
    "\n",
    "Use of activeCount(): It returns the number of active threads in current program.\n",
    "Use of currentThread(): It returns the reference to the current executing thread , basically providing the details about that thread.\n",
    "Use of enumerate(): It helps in iterating over a set of items , takinf the case of threading it is used to iterate over the currently \n",
    "executing threads in order to check their status"
   ]
  },
  {
   "cell_type": "code",
   "execution_count": null,
   "id": "fc25568c-bceb-4b08-a7b1-851acd612d10",
   "metadata": {},
   "outputs": [],
   "source": [
    "Q3. Explain the following functions\n",
    "( run()\n",
    " start()\n",
    " join()\n",
    "isAlive())\n",
    "Ans. run() : The code that needs to be run on starting of the thread is kept under run method of thread.\n",
    "start(): It is used to start a thread \n",
    "join(): If a thread is joined to the processor using join then it blocks other threads to run untill the joined tread completes its execution.\n",
    "isAlive() : It is used to check whether a thread is currently alive or executing in the processor\n",
    "\n"
   ]
  },
  {
   "cell_type": "code",
   "execution_count": 3,
   "id": "89d25c94-6ebb-4446-9409-083d43f7824c",
   "metadata": {},
   "outputs": [
    {
     "name": "stdout",
     "output_type": "stream",
     "text": [
      "1\n",
      "4\n",
      "9\n",
      "16\n",
      "25\n",
      "\n",
      "\n",
      "\n",
      "1\n",
      "8\n",
      "27\n",
      "64\n",
      "125\n"
     ]
    }
   ],
   "source": [
    "# Q4. Write a python program to create two threads. Thread one must print the list of squares and thread\n",
    "# two must print the list of cubes.\n",
    "import threading\n",
    "numlist = [1,2,3,4,5]\n",
    "def square(num):\n",
    "    print( num*num)\n",
    "thread = [threading.Thread(target = square,args = (i,)) for i in numlist]\n",
    "for t in thread:\n",
    "    t.start()\n",
    "    \n",
    "print(\"\\n\\n\")\n",
    "\n",
    "\n",
    "def cube(num):\n",
    "    print( num*num*num)\n",
    "thread = [threading.Thread(target = cube,args = (i,)) for i in numlist]\n",
    "for t in thread:\n",
    "    t.start()"
   ]
  },
  {
   "cell_type": "code",
   "execution_count": null,
   "id": "b83b1719-9ddc-41ca-a1de-1abaa87f1c01",
   "metadata": {},
   "outputs": [],
   "source": [
    "Q5. State advantages and disadvantages of multithreading\n",
    "Ans. Advantages of Multithreading:\n",
    "    1. Efficiency : It makes program faster as multiple tasks can be executed concurrently.\n",
    "    2. Resource Utilisaation : As multiple threads can occupy multiple resources at same time , hence it increases the resource utilisaion.\n",
    "    3. Increased Responsiveness : Multithreading helps make program more responsive as compared to uni-threading.\n",
    "    \n",
    "    Disadvantages of Multithreading :\n",
    "    1. Deadlocks and Race Conditions:  Multithreading can cause deadlocks and race conditions as multiple process can race for resources \n",
    "    concurrently.\n",
    "    2. Global Interpreter Lock : In python specifically, the GIL limits the execution of python bytecode only one at a time, affecting the multiprocessing."
   ]
  },
  {
   "cell_type": "code",
   "execution_count": null,
   "id": "7e8532d7-2fba-4b36-9a0e-e5635e58f7f2",
   "metadata": {},
   "outputs": [],
   "source": [
    "Q6. Explain deadlocks and race conditions.\n",
    "Ans. Deadlocks : When a program holds a resource and request for another resource assigned to different process requesting the resource\n",
    "the former is holding , then the situation odf deadlock arises as both the system are holding each others required resource and requesting\n",
    "the same.\n",
    "\n",
    "Race Condition:  A situation under which a two different programs try to alter a system variable concurrently , then this leads to rise of race condition in programming."
   ]
  }
 ],
 "metadata": {
  "kernelspec": {
   "display_name": "Python 3 (ipykernel)",
   "language": "python",
   "name": "python3"
  },
  "language_info": {
   "codemirror_mode": {
    "name": "ipython",
    "version": 3
   },
   "file_extension": ".py",
   "mimetype": "text/x-python",
   "name": "python",
   "nbconvert_exporter": "python",
   "pygments_lexer": "ipython3",
   "version": "3.10.8"
  }
 },
 "nbformat": 4,
 "nbformat_minor": 5
}
