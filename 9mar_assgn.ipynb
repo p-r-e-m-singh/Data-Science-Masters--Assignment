{
 "cells": [
  {
   "cell_type": "markdown",
   "id": "ea3219cb-9956-4202-aaeb-306e8dbc1916",
   "metadata": {},
   "source": [
    "Q1: What are the Probability Mass Function (PMF) and Probability Density Function (PDF)? Explain with\n",
    "an example."
   ]
  },
  {
   "cell_type": "code",
   "execution_count": null,
   "id": "277b7bac-b620-4f3b-b596-c0423cf2df18",
   "metadata": {},
   "outputs": [],
   "source": [
    "A PMF is a function that assigns a probability to each possible value of a discrete random variable. For example, the PMF of a coin toss would assign a probability of 0.5 to the outcome \"heads\" and a probability of 0.5 to the outcome \"tails\".\n",
    "A PDF is a function that assigns a probability to each possible value of a continuous random variable. The PDF is not a probability itself, but rather it represents the probability density of the random variable. This means that the PDF tells us how likely it is to observe a particular value of the random variable."
   ]
  },
  {
   "cell_type": "markdown",
   "id": "419eede9-f4d9-43b4-806f-729412eb3e5f",
   "metadata": {},
   "source": [
    "Q2: What is Cumulative Density Function (CDF)? Explain with an example. Why CDF is used?"
   ]
  },
  {
   "cell_type": "code",
   "execution_count": null,
   "id": "2ba15b42-9c3d-46e3-abb5-8a80d50a703d",
   "metadata": {},
   "outputs": [],
   "source": [
    "The function used in statistics to determine whether a random variable is less\n",
    "than or equal to a given value , is known as Cumulative Density Function.\n",
    "For E.g. \n",
    "P(X = 0) = 0.05\n",
    "P(X = 1) = 0.1\n",
    "P(X = 2) = 0.1\n",
    "P(X = 3) = 0.15\n",
    "P(X = 4) = 0.2\n",
    "P(X = 5) = 0.15\n",
    "P(X = 6) = 0.1\n",
    "P(X = 7) = 0.1\n",
    "P(X = 8) = 0.03\n",
    "P(X = 9) = 0.01\n",
    "P(X = 10) = 0.01\n",
    "\n",
    "then \n",
    "P(X<=2) = p(x=0)+p(x=1)+p(x=2) = 0.05+0.1+0.1 = 0.25\n",
    "\n",
    "CDF is used because :\n",
    "    it helps in calculating probability in case of intervals\n",
    "    it is used to calculate percentile."
   ]
  },
  {
   "cell_type": "markdown",
   "id": "1a47c955-8012-484a-bb3c-f55a4dbe2850",
   "metadata": {},
   "source": [
    "Q3: What are some examples of situations where the normal distribution might be used as a model?\n",
    "Explain how the parameters of the normal distribution relate to the shape of the distribution."
   ]
  },
  {
   "cell_type": "code",
   "execution_count": null,
   "id": "70fcb666-8288-41c5-a6b2-cfde7e3c6fca",
   "metadata": {},
   "outputs": [],
   "source": [
    "Heights of people: In a population, the heights of adult individuals tend to follow a normal distribution. The majority of people will be around the average height, with fewer individuals being exceptionally tall or short.\n",
    "\n",
    "Test scores: In educational testing, scores on standardized tests, such as IQ tests or SAT scores, often follow a normal distribution. Most students will score around the average, with fewer students scoring significantly above or below the average.\n",
    "\n",
    "Errors in measurements: In many scientific and engineering applications, errors in measurements often follow a normal distribution. This property is important in uncertainty analysis and error propagation.\n",
    "\n",
    "Biological traits: Various biological traits, like weights of animals or lengths of certain body parts, often exhibit a normal distribution within a population.\n",
    "\n",
    "Financial markets: In the field of finance, stock prices and returns are sometimes assumed to follow a normal distribution for certain modeling purposes, though this assumption is often debated.\n",
    "\n",
    "\n",
    "The two following parameters of N.D. relate to the shape in such way :\n",
    "Mean (μ): The mean of the normal distribution corresponds to the center of the distribution. It is the expected value, and it also coincides with the peak of the bell-shaped curve. Shifting the mean to the left or right will move the entire distribution along the x-axis.\n",
    "\n",
    "Standard Deviation (σ): The standard deviation is a measure of the dispersion or spread of the data. A smaller standard deviation will result in a narrower and taller curve, whereas a larger standard deviation will lead to a broader and flatter curve."
   ]
  },
  {
   "cell_type": "markdown",
   "id": "4e5a80cd-ef00-4714-a6c3-7dcbe6b2c020",
   "metadata": {},
   "source": [
    "Q4: Explain the importance of Normal Distribution. Give a few real-life examples of Normal\n",
    "Distribution."
   ]
  },
  {
   "cell_type": "code",
   "execution_count": null,
   "id": "0ee4d06b-fbe0-4a1f-9bb2-4b9fd0eaf841",
   "metadata": {},
   "outputs": [],
   "source": [
    "The Normal Distribution is so useful when the dataset is revolving around a particular \n",
    "value , can be said as Mean or Average.\n",
    "\n",
    "Test Scores , Biological TRaits , Enginering Errors "
   ]
  },
  {
   "cell_type": "markdown",
   "id": "f014ee13-7eb7-4be5-b9b0-2d4c840b10d3",
   "metadata": {},
   "source": [
    "Q5: What is Bernaulli Distribution? Give an Example. What is the difference between Bernoulli\n",
    "Distribution and Binomial Distribution?"
   ]
  },
  {
   "cell_type": "code",
   "execution_count": null,
   "id": "2f00fe3c-0592-4c12-8f6b-487d40e2c7c2",
   "metadata": {},
   "outputs": [],
   "source": [
    "The Bernoulli distribution is a discrete probability distribution that models a \n",
    "single binary experiment, where there are only two possible outcomes: success (denoted by 1) or \n",
    "failure (denoted by 0).\n",
    "For E.g:\n",
    "    To get Success in A fair Coin toss we can assume getting a tail is success.\n",
    "    hence p = getting a tail is success s.t. p=0.5\n",
    "    \n",
    "The Bernoulli distribution is a fundamental building block for other important distributions \n",
    "in statistics, such as the binomial distribution (which deals with the number of successes in a fixed number of independent Bernoulli trials)"
   ]
  },
  {
   "cell_type": "markdown",
   "id": "0a22cd1b-b06c-438e-96c3-26b67098187f",
   "metadata": {},
   "source": [
    "Q6. Consider a dataset with a mean of 50 and a standard deviation of 10. If we assume that the dataset\n",
    "is normally distributed, what is the probability that a randomly selected observation will be greater\n",
    "than 60? Use the appropriate formula and show your calculations."
   ]
  },
  {
   "cell_type": "code",
   "execution_count": null,
   "id": "588be58c-065c-4f7f-a66a-0ca68d3b481e",
   "metadata": {},
   "outputs": [],
   "source": [
    "z = (x-mu)/sigma\n",
    "z = (60-50)/10\n",
    "\n",
    "z=1\n",
    "\n",
    "from Z-table:\n",
    "    Probabilty of random selected variable greater than 60 : 0.1587*100 = 15.87"
   ]
  },
  {
   "cell_type": "markdown",
   "id": "fdb52622-468c-4346-a4be-b748f3fe35bd",
   "metadata": {},
   "source": [
    "Q7: Explain uniform Distribution with an example."
   ]
  },
  {
   "cell_type": "code",
   "execution_count": null,
   "id": "c72dacde-495e-4a8a-ae20-d7d76f80ada2",
   "metadata": {},
   "outputs": [],
   "source": [
    "The uniform distribution is a type of probability distribution in statistics where all outcomes \n",
    "within a given range are equally likely. \n",
    "for E.g.:\n",
    "    Let's consider a situation where we want to model the distribution of numbers obtained from rolling a fair six-sided die."
   ]
  },
  {
   "cell_type": "markdown",
   "id": "ed7f1cc9-d9ea-4a1f-a113-723e4528a298",
   "metadata": {},
   "source": [
    "Q8: What is the z score? State the importance of the z score."
   ]
  },
  {
   "cell_type": "code",
   "execution_count": null,
   "id": "8fc1b293-c406-42fd-864a-1d752178534e",
   "metadata": {},
   "outputs": [],
   "source": [
    "The z-score, also known as the standard score, is a statistical measure that quantifies the number\n",
    "of standard deviations a data point is away from the mean of the data set.\n",
    "\n",
    "Importance of Z Score:\n",
    "    the z-score is a valuable statistical tool that provides standardized values, \n",
    "    enabling us to make comparisons, identify outliers, estimate probabilities, and facilitate data analysis\n",
    "    in a wide range of fields, including statistics, data science, and research."
   ]
  },
  {
   "cell_type": "markdown",
   "id": "79b4847b-fc88-4f6d-ab30-7d823d8a36f0",
   "metadata": {},
   "source": [
    "Q9: What is Central Limit Theorem? State the significance of the Central Limit Theorem."
   ]
  },
  {
   "cell_type": "code",
   "execution_count": null,
   "id": "bf57aca6-b62b-4d5c-847a-101060c7d5d1",
   "metadata": {},
   "outputs": [],
   "source": [
    "the Central Limit Theorem tells us that if we take a large number of random\n",
    "samples from any population, the distribution of the sample means will tend \n",
    "to follow a normal distribution, even if the original population distribution is not normal.\n",
    "\n",
    "Significance:\n",
    "the Central Limit Theorem is a powerful concept that ensures that the sample \n",
    "means tend to be approximately normally distributed, regardless of the \n",
    "shape of the original population distribution. This theorem is a fundamental \n",
    "building block in statistical inference and plays a crucial \n",
    "role in making statistical inferences and decisions based on sample data."
   ]
  },
  {
   "cell_type": "markdown",
   "id": "84f76345-d3d2-4b4e-9b93-c2246ed835fd",
   "metadata": {},
   "source": [
    "Q10: State the assumptions of the Central Limit Theorem."
   ]
  },
  {
   "cell_type": "code",
   "execution_count": null,
   "id": "32c15da2-9b97-441a-925f-de34aa359a49",
   "metadata": {},
   "outputs": [],
   "source": [
    "Independence: The individual observations in each sample must be independent of each other. This means that the value of one observation should not be influenced by or related to the value of any other observation in the same sample.\n",
    "\n",
    "Identically Distributed: The samples should be drawn from the same underlying population, and each sample should have the same probability distribution and variance. In other words, the samples should be i.i.d. (independent and identically distributed).\n",
    "\n",
    "Finite Variance: The original population from which the samples are drawn must have a finite variance (i.e., the variance of the population should not be infinite). This assumption ensures that the sample means have well-defined properties.\n",
    "\n",
    "Sample Size: The Central Limit Theorem is most effective and accurate when the sample size (n) is sufficiently large. A common rule of thumb is that the CLT applies well when the sample size is greater than or equal to 30. However, larger sample sizes typically provide more accurate approximations to the normal distribution."
   ]
  }
 ],
 "metadata": {
  "kernelspec": {
   "display_name": "Python 3 (ipykernel)",
   "language": "python",
   "name": "python3"
  },
  "language_info": {
   "codemirror_mode": {
    "name": "ipython",
    "version": 3
   },
   "file_extension": ".py",
   "mimetype": "text/x-python",
   "name": "python",
   "nbconvert_exporter": "python",
   "pygments_lexer": "ipython3",
   "version": "3.10.8"
  }
 },
 "nbformat": 4,
 "nbformat_minor": 5
}
