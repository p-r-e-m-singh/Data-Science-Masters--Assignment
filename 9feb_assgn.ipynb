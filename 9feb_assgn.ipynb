{
 "cells":[
  {
   "cell_type": "code",
   "execution_count": 1,
   "id": "865317ff-c3d8-45ce-aa62-bd74d9f55eae",
   "metadata": {},
   "outputs": [],
   "source": [
    "# Q1. Create a vehicle class with an init method having instance variables as name_of_vehicle, max_speed\n",
    "# and average_of_vehicle.\n",
    "\n",
    "class vehicle:\n",
    "    def __init__(self,name_of_vehicle, max_speed,average_of_vehicle):\n",
    "        self.name_of_vehicle=name_of_vehicle\n",
    "        self.max_speed=max_speed\n",
    "        self.average_of_vehicle=average_of_vehicle\n"
   ]
  },
  {
   "cell_type": "code",
   "execution_count": null,
   "id": "78bedcb1-1a7c-4aa6-af52-f8b7df5e085f",
   "metadata": {},
   "outputs": [],
   "source": [
    "# Q2. Create a child class car from the vehicle class created in Que 1, which will inherit the vehicle class.\n",
    "# Create a method named seating_capacity which takes capacity as an argument and returns the name of\n",
    "# the vehicle and its seating capacity.\n",
    "\n",
    "class car(vehicle):\n",
    "    def seating_capacity(self,capacity):\n",
    "        return name_of_vehicle , capacity\n"
   ]
  },
  {
   "cell_type": "code",
   "execution_count": 1,
   "id": "3f15f4c3-82db-43d8-b2b5-ad1e07963ad4",
   "metadata": {},
   "outputs": [
    {
     "name": "stdout",
     "output_type": "stream",
     "text": [
      "Under vehicle class\n",
      "Under Bike Class\n"
     ]
    }
   ],
   "source": [
    "#Q3. What is multiple inheritance? Write a python code to demonstrate multiple inheritance.\n",
    "#Ans. Multiple classes inheriting a class known as super-class ,using its methods , is known as multiple inheritance.\n",
    "\n",
    "class vehicle:\n",
    "    def __init__(self,name):\n",
    "        self.name=name\n",
    "        print(\"Under vehicle class\")\n",
    "class car(vehicle):\n",
    "    def __init__(self,name):\n",
    "        super().__init__(name)\n",
    "        print(\"Under Car class\")\n",
    "class bike(vehicle):\n",
    "    def __init__(self,name):\n",
    "        super().__init__(name)\n",
    "        print(\"Under Bike Class\")\n",
    "\n",
    "Pulsar = bike(\"Pulsar\")\n"
   ]
  },
  {
   "cell_type": "code",
   "execution_count": 3,
   "id": "bd65da3f-c7be-4b5e-a968-02475e936963",
   "metadata": {},
   "outputs": [],
   "source": [
    "# Q4. What are getter and setter in python? Create a class and create a getter and a setter method in this\n",
    "# class.\n",
    "# Ans. Getter and setter are special type of python decorators used to access private variables of a class\n",
    "\n",
    "class vehicle:\n",
    "    def __init__(self,price):\n",
    "        self.__carprice=price\n",
    "    @property #getter-function\n",
    "    def car_price_access(self):\n",
    "        return self.__carprice\n",
    "    @car_price_access.setter  #setter-function\n",
    "    def set_car_price(self,newprice):\n",
    "        self.__carprice=newprice\n",
    "        "
   ]
  },
  {
   "cell_type": "code",
   "execution_count": 5,
   "id": "82eb7ec0-3a28-4409-bcd0-ed16dcde721b",
   "metadata": {},
   "outputs": [
    {
     "name": "stdout",
     "output_type": "stream",
     "text": [
      "5\n"
     ]
    }
   ],
   "source": [
    "#Q5.What is method overriding in python? Write a python code to demonstrate method overriding.\n",
    "#Ans. The process of changing the working of a method in a class non-alike to the one defined the parent class with the same name.\n",
    "\n",
    "class parentclass:\n",
    "    def __init__(self,num):\n",
    "        self.num=num\n",
    "    def square(self):\n",
    "        return self.num**2\n",
    "class childclass(parentclass):\n",
    "    def __init__(self,num):\n",
    "        super().__init__(num)\n",
    "        self.num=num\n",
    "    def square(self): #MEthod Overriden\n",
    "        return self.num+2\n",
    "a = childclass(3)\n",
    "print(a.square())"
   ]
  }
 ],
 "metadata": {
  "kernelspec": {
   "display_name": "Python 3 (ipykernel)",
   "language": "python",
   "name": "python3"
  },
  "language_info": {
   "codemirror_mode": {
    "name": "ipython",
    "version": 3
   },
   "file_extension": ".py",
   "mimetype": "text/x-python",
   "name": "python",
   "nbconvert_exporter": "python",
   "pygments_lexer": "ipython3",
   "version": "3.10.8"
  }
 },
 "nbformat": 4,
 "nbformat_minor": 5
}
