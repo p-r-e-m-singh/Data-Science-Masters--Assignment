{
 "cells": [
  {
   "cell_type": "code",
   "execution_count": null,
   "id": "06e3345d-b370-42f4-acef-1459615a7b82",
   "metadata": {},
   "outputs": [],
   "source": [
    "Q1. What is an API? Give an example, where an API is used in real life.\n",
    "Ans. API stands for Application Programming Interface. The shortest route determining facility of\n",
    "a python code is an API for Google Maps.\n",
    "In Real Life Uber,Ola,Meru etc taxi booking apps use API of Google Maps for their functioning and\n",
    "user satisfaction."
   ]
  },
  {
   "cell_type": "code",
   "execution_count": null,
   "id": "45f73004-df41-412e-b8c3-5e44be352768",
   "metadata": {},
   "outputs": [],
   "source": [
    "Q2. Give advantages and disadvantages of using API.\n",
    "Ans. Advantages of using an API is :\n",
    "    ->Integration : It helps integrate different programs and functions to work synchronously , without \n",
    "    the need of defining the same for each use-case.\n",
    "    ->Flexibility : It helps developer to access and manipulate data from multiple sources.\n",
    "    ->Improved User Experience : APIs can be used to enable the user to create a program as per his convenience.\n",
    "    Disadvanatges of using an API is:\n",
    "    -> Security : APIs are prone to hackers and security threats as malicious users can use it anytime\n",
    "    for malicious purpose.\n",
    "    -> Compatibility : APIs can have a compatibility issue with their version upgradation."
   ]
  },
  {
   "cell_type": "code",
   "execution_count": null,
   "id": "e0774097-598d-44d0-befd-ca07740557d4",
   "metadata": {},
   "outputs": [],
   "source": [
    "Q3. Q3. What is a Web API? Differentiate between API and Web API.\n",
    "Ans. A web API is an interface provided to different web-based programs to communicate among each other\n",
    "over the internet.\n",
    "\n",
    "API:\n",
    "    It is a generalised form of inter-communication among different programs in order to communicate\n",
    "    and and share the functionality.\n",
    "Web API:\n",
    "    It is inter-communication of web-based functions."
   ]
  },
  {
   "cell_type": "code",
   "execution_count": null,
   "id": "f639cf0e-7d23-4763-b709-b1f9649babf9",
   "metadata": {},
   "outputs": [],
   "source": [
    "Q4. Explain REST and SOAP Architecture. Mention shortcomings of SOAP.\n",
    "Ans. \n",
    "REST Architecture :\n",
    "    REST stands for Representational State Transfer , used to build Web-APIs. They use HTTP methods\n",
    "    like GET, POST, PUT , DELETE to enable data manipulation among different systems.\n",
    "\n",
    "SOAP Architecture : \n",
    "    SOAP stands for Simple Object Access Protocol , used to exchange structured information over the\n",
    "    internet. It is an XML based protocol that is used for this web-application based communication.\n",
    "    \n",
    "Shortcomings of SOAP:\n",
    "    It is complex in nature as it uses XML.\n",
    "    It is less scalable as it uses HTTP which is non-preferred port nowadays.\n",
    "    "
   ]
  },
  {
   "cell_type": "code",
   "execution_count": 3,
   "id": "834e7f36-a07a-4ccb-ac32-416fd4796266",
   "metadata": {},
   "outputs": [],
   "source": [
    "Q5. Differentiate between REST and SOAP.\n",
    "Ans.\n",
    "REST Architecture :\n",
    "    REST stands for Representational State Transfer , used to build Web-APIs. They use HTTP methods\n",
    "    like GET, POST, PUT , DELETE to enable data manipulation among different systems.\n",
    "\n",
    "SOAP Architecture : \n",
    "    SOAP stands for Simple Object Access Protocol , used to exchange structured information over the\n",
    "    internet. It is an XML based protocol that is used for this web-application based communication."
   ]
  },
  {
   "cell_type": "code",
   "execution_count": null,
   "id": "c8bafd4e-7669-4791-88c6-97dfa14eb175",
   "metadata": {},
   "outputs": [],
   "source": []
  }
 ],
 "metadata": {
  "kernelspec": {
   "display_name": "Python 3 (ipykernel)",
   "language": "python",
   "name": "python3"
  },
  "language_info": {
   "codemirror_mode": {
    "name": "ipython",
    "version": 3
   },
   "file_extension": ".py",
   "mimetype": "text/x-python",
   "name": "python",
   "nbconvert_exporter": "python",
   "pygments_lexer": "ipython3",
   "version": "3.10.8"
  }
 },
 "nbformat": 4,
 "nbformat_minor": 5
}
