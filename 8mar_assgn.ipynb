{
 "cells": [
  {
   "cell_type": "markdown",
   "id": "70366d6d-8315-41c0-906c-ffd541613fc1",
   "metadata": {},
   "source": [
    "Q1. What is the Probability density function?"
   ]
  },
  {
   "cell_type": "code",
   "execution_count": null,
   "id": "f1b1d5ef-26d9-4052-9fb7-0f6f5d719f85",
   "metadata": {},
   "outputs": [],
   "source": [
    "The pdf is used to determine the occurence of a random variable in a range of values\n",
    ",instead of taking any one value."
   ]
  },
  {
   "cell_type": "markdown",
   "id": "264ba9f1-9485-4e9f-b946-72377892078c",
   "metadata": {},
   "source": [
    "Q2. What are the types of Probability distribution?"
   ]
  },
  {
   "cell_type": "code",
   "execution_count": null,
   "id": "f7aef4b1-7574-433f-8b43-ea5447b1a0de",
   "metadata": {},
   "outputs": [],
   "source": [
    "Binomial , Poisson , Uniform"
   ]
  },
  {
   "cell_type": "markdown",
   "id": "71195e29-ab7e-42b3-a25b-10361a023f19",
   "metadata": {},
   "source": [
    "Q3. Write a Python function to calculate the probability density function of a normal distribution with\n",
    "given mean and standard deviation at a given point."
   ]
  },
  {
   "cell_type": "code",
   "execution_count": 6,
   "id": "e92096ff-8030-451a-a7c1-a9f1853dc3fd",
   "metadata": {},
   "outputs": [
    {
     "name": "stdout",
     "output_type": "stream",
     "text": [
      "0.3989422804014327\n"
     ]
    }
   ],
   "source": [
    "import scipy\n",
    "nd = scipy.stats.norm(0, 1).pdf(0)\n",
    "print(nd)"
   ]
  },
  {
   "cell_type": "markdown",
   "id": "71246481-d040-4a24-a029-18c89b88c308",
   "metadata": {},
   "source": [
    "Q4. What are the properties of Binomial distribution? Give two examples of events where binomial\n",
    "distribution can be applied."
   ]
  },
  {
   "cell_type": "code",
   "execution_count": 10,
   "id": "db8e35d9-6a6f-4f75-ade9-84d0f4fabefe",
   "metadata": {},
   "outputs": [],
   "source": [
    "Properties of Binomial Distribution : \n",
    "    -> Independent events can occur only with only two possibilities of either \n",
    "    success or failure.\n",
    "    -> Tossing a Coin , Sampling Inspection , Genetic Experiments ."
   ]
  },
  {
   "cell_type": "markdown",
   "id": "e25c4c42-1657-4dc0-b68c-4f57eed56ff6",
   "metadata": {},
   "source": [
    "Q5. Generate a random sample of size 1000 from a binomial distribution with probability of success 0.4\n",
    "and plot a histogram of the results using matplotlib."
   ]
  },
  {
   "cell_type": "code",
   "execution_count": 8,
   "id": "ae47a04b-f86c-45ab-9c91-160881cc25d4",
   "metadata": {},
   "outputs": [
    {
     "data": {
      "image/png": "[encoded data removed]",
      "text/plain": [
       "<Figure size 640x480 with 1 Axes>"
      ]
     },
     "metadata": {},
     "output_type": "display_data"
    }
   ],
   "source": [
    "import numpy as np\n",
    "import matplotlib.pyplot as plt\n",
    "\n",
    "sample = np.random.binomial(10, 0.4, 1000)\n",
    "plt.hist(sample, bins=20)\n",
    "plt.title('Binomial Distribution with p=0.4')\n",
    "plt.xlabel('Number of successes')\n",
    "plt.ylabel('Frequency')\n",
    "plt.show()"
   ]
  },
  {
   "cell_type": "markdown",
   "id": "cbd5c40b-e6d9-4f58-a756-ea883a0309d3",
   "metadata": {},
   "source": [
    "Q6. Write a Python function to calculate the cumulative distribution function of a Poisson distribution\n",
    "with given mean at a given point."
   ]
  },
  {
   "cell_type": "code",
   "execution_count": null,
   "id": "74fa1aca-636d-4b6e-81c3-6ccbb8bac840",
   "metadata": {},
   "outputs": [],
   "source": [
    "import math\n",
    "\n",
    "def poisson_cdf(mean, point):\n",
    "  cdf = 0\n",
    "  for k in range(point + 1):\n",
    "    cdf += math.exp(-mean) * (mean**k) / math.factorial(k)\n",
    "\n",
    "  return cdf"
   ]
  },
  {
   "cell_type": "markdown",
   "id": "bce7043f-b483-47fa-afa9-e123c8a45db9",
   "metadata": {},
   "source": [
    "Q7. How Binomial distribution different from Poisson distribution?"
   ]
  },
  {
   "cell_type": "code",
   "execution_count": null,
   "id": "6b9d7e6c-f631-4eb9-8862-dd6c05c8efe6",
   "metadata": {},
   "outputs": [],
   "source": [
    "The binomial distribution has two parameters: the number of trials, n, and the probability of success on each trial, p. The Poisson distribution has only one parameter, the mean, μ.\n",
    "\n",
    "The binomial distribution is discrete: it can only take on integer values. The Poisson distribution can take on any non-negative real value.\n",
    "\n",
    "The binomial distribution is used to model situations where the probability of success on each trial is constant. The Poisson distribution is used to model situations where the probability of success on each trial is very small and the number of trials is large."
   ]
  },
  {
   "cell_type": "code",
   "execution_count": null,
   "id": "849790cf-f75e-44c2-9bd9-19fa917c28c1",
   "metadata": {},
   "outputs": [],
   "source": [
    "Q8. Generate a random sample of size 1000 from a Poisson distribution with \n",
    "mean 5 and calculate the sample mean and variance."
   ]
  },
  {
   "cell_type": "code",
   "execution_count": 9,
   "id": "14231ff6-ced5-4542-ade7-ffd35f95dfbe",
   "metadata": {},
   "outputs": [
    {
     "name": "stdout",
     "output_type": "stream",
     "text": [
      "Sample mean: 4.924\n",
      "Sample variance: 4.8602240000000005\n"
     ]
    }
   ],
   "source": [
    "import numpy as np\n",
    "\n",
    "\n",
    "sample = np.random.poisson(5, 1000)\n",
    "mean = np.mean(sample)\n",
    "variance = np.var(sample)\n",
    "\n",
    "print('Sample mean:', mean)\n",
    "print('Sample variance:', variance)\n"
   ]
  },
  {
   "cell_type": "markdown",
   "id": "51c79fdd-f367-4f24-9ed3-d92d92ffc7d7",
   "metadata": {},
   "source": [
    "Q9. How mean and variance are related in Binomial distribution and Poisson distribution?"
   ]
  },
  {
   "cell_type": "code",
   "execution_count": null,
   "id": "454de349-8ec8-483f-87f1-c5ff04f9b67e",
   "metadata": {},
   "outputs": [],
   "source": [
    "In both the binomial and Poisson distributions, the mean and variance are equal. This is because the binomial distribution is a limiting case of the Poisson distribution as the number of trials tends to infinity and the probability of success tends to zero."
   ]
  },
  {
   "cell_type": "markdown",
   "id": "f390b666-4cdd-4fc0-b177-91c6d48d4c76",
   "metadata": {},
   "source": [
    "Q10. In normal distribution with respect to mean position, \n",
    "where does the least frequent data appear?"
   ]
  },
  {
   "cell_type": "code",
   "execution_count": null,
   "id": "228c753b-6432-4ed3-a4f9-87f9a7d86de7",
   "metadata": {},
   "outputs": [],
   "source": [
    "The least frequent data in a normal distribution appears farthest from the mean. This is because the normal distribution is symmetrical, with the mean at the center. The most frequent data is therefore found at the mean, and the least frequent data is found at the tails of the distribution."
   ]
  }
 ],
 "metadata": {
  "kernelspec": {
   "display_name": "Python 3 (ipykernel)",
   "language": "python",
   "name": "python3"
  },
  "language_info": {
   "codemirror_mode": {
    "name": "ipython",
    "version": 3
   },
   "file_extension": ".py",
   "mimetype": "text/x-python",
   "name": "python",
   "nbconvert_exporter": "python",
   "pygments_lexer": "ipython3",
   "version": "3.10.8"
  }
 },
 "nbformat": 4,
 "nbformat_minor": 5
}
