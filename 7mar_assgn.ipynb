{
 "cells": [
  {
   "cell_type": "markdown",
   "id": "2604ce47-065f-4b48-98a0-69bb3b9fe59c",
   "metadata": {},
   "source": [
    "Q1. What are the three measures of central tendency?"
   ]
  },
  {
   "cell_type": "code",
   "execution_count": null,
   "id": "4d29def2-64c3-4eb8-9a28-b21884f30bc0",
   "metadata": {},
   "outputs": [],
   "source": [
    "Ans. Mean , median and Mode are three measures of central tendency."
   ]
  },
  {
   "cell_type": "markdown",
   "id": "333bc0a5-0341-42fb-a971-1325d2e0904c",
   "metadata": {},
   "source": [
    "Q2. What is the difference between the mean, median, and mode? How are they used to measure the\n",
    "central tendency of a dataset?"
   ]
  },
  {
   "cell_type": "code",
   "execution_count": 2,
   "id": "23d076d1-cff2-4756-8f55-387baa222fe5",
   "metadata": {},
   "outputs": [],
   "source": [
    "Mean : It tells us the average of a sample population data.\n",
    "Median : It tells about the middle value in a numerical dataset.\n",
    "Mode: It gives the most repeated value in a dataset\n",
    "These measures provide different insights into the central tendency of a dataset and can be used in different scenarios depending on the nature of the data and the analysis being performed. It's often a good practice to consider multiple measures of central tendency to gain a more comprehensive understanding of the data."
   ]
  },
  {
   "cell_type": "markdown",
   "id": "f0a95d8b-3ac3-4ac8-a716-c9116b31fd5b",
   "metadata": {},
   "source": [
    "Q3. Measure the three measures of central tendency for the given height data:\n",
    "[178,177,176,177,178.2,178,175,179,180,175,178.9,176.2,177,172.5,178,176.5]"
   ]
  },
  {
   "cell_type": "code",
   "execution_count": null,
   "id": "2a3f3315-9d33-4e62-8a9f-495e3180c669",
   "metadata": {},
   "outputs": [],
   "source": [
    "Ans. Mean : 170.95 ; Median : 177 ; Mode : 178"
   ]
  },
  {
   "cell_type": "markdown",
   "id": "4bf03d61-67d8-460c-8592-c007b4d9fe73",
   "metadata": {},
   "source": [
    "Q4. Find the standard deviation for the given data:\n",
    "[178,177,176,177,178.2,178,175,179,180,175,178.9,176.2,177,172.5,178,176.5]"
   ]
  },
  {
   "cell_type": "code",
   "execution_count": null,
   "id": "a44bc328-48bb-4e44-86a9-4cdc36bc102b",
   "metadata": {},
   "outputs": [],
   "source": [
    "Std Deviation : 1.79"
   ]
  },
  {
   "cell_type": "markdown",
   "id": "171b7f24-f3fb-4091-9216-322775daf24e",
   "metadata": {},
   "source": [
    "Q5. How are measures of dispersion such as range, variance, and standard deviation used to describe\n",
    "the spread of a dataset? Provide an example."
   ]
  },
  {
   "cell_type": "code",
   "execution_count": null,
   "id": "5324e842-a518-4a2f-babc-f963ff010646",
   "metadata": {},
   "outputs": [],
   "source": [
    "Range: The range is the simplest measure of dispersion and is calculated by finding the difference between the maximum and minimum values in a dataset. It provides an idea of the total spread of the data but does not consider the distribution of values within that range. For example, if you have a dataset of exam scores ranging from 60 to 90, the range would be 90 - 60 = 30, indicating that the scores are spread over a 30-point range.\n",
    "Variance: Variance measures the average squared deviation from the mean. It calculates how much the individual data points deviate from the mean and then takes the average of those squared deviations. A higher variance indicates a greater spread of data points, while a lower variance indicates a more clustered dataset. For example, if you have a dataset of exam scores with a variance of 100, it means that the scores, on average, deviate from the mean by approximately 10 points.\n",
    "Standard Deviation: Standard deviation is the square root of the variance. It provides a measure of the average distance between each data point and the mean. A higher standard deviation indicates a larger spread or dispersion of data points, while a lower standard deviation indicates a more tightly clustered dataset. For example, if you have a dataset of exam scores with a standard deviation of 10, it means that, on average, the scores deviate from the mean by approximately 10 points.\n"
   ]
  },
  {
   "cell_type": "markdown",
   "id": "543d5a65-7918-40c8-b480-ef9b1e1145ba",
   "metadata": {},
   "source": [
    "Q6. What is a Venn diagram?"
   ]
  },
  {
   "cell_type": "code",
   "execution_count": null,
   "id": "7e0308f2-2fab-4759-9537-cab69f38227e",
   "metadata": {},
   "outputs": [],
   "source": [
    "The diagram used to represent datasets in the form of circular containers , is called as Venn Diagram."
   ]
  },
  {
   "cell_type": "markdown",
   "id": "12bf5b42-99e8-425b-8e9f-e3281aadadb3",
   "metadata": {},
   "source": [
    "Q7. For the two given sets A = (2,3,4,5,6,7) & B = (0,2,6,8,10). Find:\n",
    "(i) A B\n",
    "(ii) A ⋃ B"
   ]
  },
  {
   "cell_type": "code",
   "execution_count": null,
   "id": "5cc4d9c8-a8b4-4f03-bdea-c785c38f2a74",
   "metadata": {},
   "outputs": [],
   "source": [
    "1 -> (2,6)\n",
    "2-> (0,2,3,4,5,6,7,8,10)"
   ]
  },
  {
   "cell_type": "markdown",
   "id": "c3341b03-2e96-499f-9a1a-60c3a8d5aa5d",
   "metadata": {},
   "source": [
    "Q8. What do you understand about skewness in data?"
   ]
  },
  {
   "cell_type": "code",
   "execution_count": null,
   "id": "0db1c9db-b4c4-43d3-906f-96688ec2c73c",
   "metadata": {},
   "outputs": [],
   "source": [
    "Skewness is a statistical measure that describes the asymmetry or lack of symmetry in a dataset's distribution. It quantifies the extent to which the data is skewed to the left or right relative to the central tendency (mean, median, or mode) of the data."
   ]
  },
  {
   "cell_type": "markdown",
   "id": "d5a3f6fa-750f-44a2-ba0c-ea848a457e1f",
   "metadata": {},
   "source": [
    "Q9. If a data is right skewed then what will be the position of median with respect to mean?"
   ]
  },
  {
   "cell_type": "code",
   "execution_count": null,
   "id": "ecb6f212-263f-45a3-9cdb-f02341e3830e",
   "metadata": {},
   "outputs": [],
   "source": [
    "Median will be less than mean , as right skewed data will stretch mean towards right."
   ]
  },
  {
   "cell_type": "markdown",
   "id": "9f47cd85-b70c-4275-bb2a-8fc287d7fe3f",
   "metadata": {},
   "source": [
    "Q10. Explain the difference between covariance and correlation. How are these measures used in\n",
    "statistical analysis?"
   ]
  },
  {
   "cell_type": "code",
   "execution_count": null,
   "id": "7fee93a9-fbb3-45c7-816a-e5459e14c32f",
   "metadata": {},
   "outputs": [],
   "source": [
    "Covariance measures how two variables vary together. It quantifies the direction and magnitude of the linear relationship between two variables. A positive covariance indicates a positive linear relationship, meaning that when one variable increases, the other tends to increase as well. A negative covariance indicates a negative linear relationship, where one variable tends to decrease as the other increases. A covariance of zero suggests no linear relationship between the variables\n",
    "___\n",
    "\n",
    "Correlation, on the other hand, measures the strength and direction of the linear relationship between two variables but is standardized to a range between -1 and +1. It is a more reliable measure of the relationship between variables compared to covariance because it is not affected by the scale of the variables."
   ]
  },
  {
   "cell_type": "markdown",
   "id": "ab396c4f-843d-42d5-86ac-a330faddba04",
   "metadata": {},
   "source": [
    "Q11. What is the formula for calculating the sample mean? Provide an example calculation for a\n",
    "dataset."
   ]
  },
  {
   "cell_type": "code",
   "execution_count": null,
   "id": "91cf4614-4ce0-4def-9eac-eab6bdf7d8a2",
   "metadata": {},
   "outputs": [],
   "source": [
    "Sample Mean (x̄) = (Sum of all values in the sample) / (Number of values in the sample)\n",
    "\n",
    "HEight = [1.5,2,1.5,2]\n",
    "no of students = 4\n",
    "\n",
    "Sample Mean(x) = (1.5+2+1.5+2)/4"
   ]
  },
  {
   "cell_type": "markdown",
   "id": "49c0af95-c54f-4f11-9144-8ae9355672c5",
   "metadata": {},
   "source": [
    "Q12. For a normal distribution data what is the relationship between its measure of central tendency?"
   ]
  },
  {
   "cell_type": "code",
   "execution_count": null,
   "id": "ab1546ff-33b5-4e98-9380-a71f743ad3c2",
   "metadata": {},
   "outputs": [],
   "source": [
    "Mode = 3Median -2Mean"
   ]
  },
  {
   "cell_type": "markdown",
   "id": "0341e707-8288-4a45-b65a-5c28e67ccb9e",
   "metadata": {},
   "source": [
    "Q13 :  A repeated question so left!"
   ]
  },
  {
   "cell_type": "markdown",
   "id": "b25a0b20-eab0-4bd1-817e-080e896da158",
   "metadata": {},
   "source": [
    "Q14. How do outliers affect measures of central tendency and dispersion? Provide an example."
   ]
  },
  {
   "cell_type": "code",
   "execution_count": null,
   "id": "22648f12-a7df-4d3e-b709-15cca0e50c1e",
   "metadata": {},
   "outputs": [],
   "source": [
    "Consider the following dataset of exam scores: [78, 82, 85, 90, 92, 95, 98, 102, 105, 112, 120].\n",
    "\n",
    "Measures of Central Tendency:\n",
    "\n",
    "Mean: Outliers can pull the mean towards their extreme values. In this dataset, if we add an outlier, say 200, the mean will increase significantly, as it is influenced by the extreme value. The original mean without the outlier is 95.54, but with the outlier, it becomes 104.69.\n",
    "Median: The median is less affected by outliers since it represents the middle value. Adding an outlier does not impact the median significantly. In the original dataset, the median is 95, and even with the outlier, it remains the same.\n",
    "\n",
    "Measures of Dispersion:\n",
    "\n",
    "Range: Outliers can greatly affect the range, which is the difference between the maximum and minimum values. If we add the outlier 200 to the previous dataset, the range increases from 42 (120 - 78) to 122 (200 - 78). The outlier significantly expands the spread of the data.\n",
    "Variance and Standard Deviation: Outliers can have a considerable impact on the variance and standard deviation since these measures are influenced by the squared deviations from the mean. Outliers increase the deviation from the mean, resulting in a higher variance and standard deviation. In the original dataset, the variance is 439.18 and the standard deviation is 20.96. After adding the outlier, the variance increases to 5186.69, and the standard deviation becomes 72.05."
   ]
  }
 ],
 "metadata": {
  "kernelspec": {
   "display_name": "Python 3 (ipykernel)",
   "language": "python",
   "name": "python3"
  },
  "language_info": {
   "codemirror_mode": {
    "name": "ipython",
    "version": 3
   },
   "file_extension": ".py",
   "mimetype": "text/x-python",
   "name": "python",
   "nbconvert_exporter": "python",
   "pygments_lexer": "ipython3",
   "version": "3.10.8"
  }
 },
 "nbformat": 4,
 "nbformat_minor": 5
}
