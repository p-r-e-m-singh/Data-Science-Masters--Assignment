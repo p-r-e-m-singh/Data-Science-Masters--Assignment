{
 "cells": [
  {
   "cell_type": "code",
   "execution_count": null,
   "id": "f3dc42d9-9745-462b-ad84-a3d4799f56f9",
   "metadata": {},
   "outputs": [],
   "source": [
    "Q1. What is Abstraction in OOps? Explain with an example."
   ]
  },
  {
   "cell_type": "code",
   "execution_count": null,
   "id": "e7a91591-ecae-41a4-bc62-fd64ab31709d",
   "metadata": {},
   "outputs": [],
   "source": [
    "Ans: The property or speciality of OOPS by virtue of which we can hide the redundant data from a user\n",
    "and display only the required/desired material , is known as abstraction in OOPS.\n",
    "For Example:\n",
    "    A Car object in OOPS can have various characteristics like Colour,made,model out of which a user\n",
    "    wants only the model of the car. For this OOPs plays with abstratction as USER will be provided the\n",
    "    model of the required car without even being bothered about Color and made."
   ]
  },
  {
   "cell_type": "code",
   "execution_count": null,
   "id": "eb0a267b-59b1-4874-b04a-3babcf2feee0",
   "metadata": {},
   "outputs": [],
   "source": [
    "Q2. Differentiate between Abstraction and Encapsulation. Explain with an example."
   ]
  },
  {
   "cell_type": "code",
   "execution_count": null,
   "id": "1f0d2264-99a2-42fd-9b4a-b798be4d9d7f",
   "metadata": {},
   "outputs": [],
   "source": [
    "Ans: Abstraction :\n",
    "    1. It maintains usefulness or display of only required properties.\n",
    "    2. It is basically different forms at different requirement.\n",
    "    Encapsulation:\n",
    "    1. It is to contain or encapsulate a object with several properties.\n",
    "    2. Here different characteristics and methods are added in a object in order to encapsulate a object with required properties.\n",
    "    \n",
    "    For Example:\n",
    "        In a Car Company a same Car's object displays Model to Sales Department and made to Account's Department, which is a part \n",
    "        of abstraction.\n",
    "        In the same Car's Object we can store its make , model , price, features etc which is an part of Encapsulation.\n",
    "        "
   ]
  },
  {
   "cell_type": "code",
   "execution_count": null,
   "id": "88262d19-e6d2-4278-b29e-9e39c06fa4eb",
   "metadata": {},
   "outputs": [],
   "source": [
    "Q3. What is abc module in python? Why is it used?"
   ]
  },
  {
   "cell_type": "code",
   "execution_count": null,
   "id": "1ab69761-0b82-41ff-bd3e-dd303e0e1974",
   "metadata": {},
   "outputs": [],
   "source": [
    "Ans :The abc module in Python stands for \"Abstract Base Classes\". \n",
    "It is a built-in module that provides the infrastructure for defining abstract base classes (ABCs) in Python.\n",
    "The abc module provides a ABC class that can be used as a base class for defining your own abstract base classes."
   ]
  },
  {
   "cell_type": "code",
   "execution_count": null,
   "id": "ec5ea5cf-0bc5-46e0-ac80-11be17065428",
   "metadata": {},
   "outputs": [],
   "source": [
    "Q4. How can we achieve data abstraction?"
   ]
  },
  {
   "cell_type": "code",
   "execution_count": null,
   "id": "e6aebffc-dd8d-488c-aca5-293a0b7f6308",
   "metadata": {},
   "outputs": [],
   "source": [
    "Ans : Data Abstraction can be achieved using private variables inside the constructor of defining class.\n",
    "        for E.g:\n",
    "        class Car :\n",
    "            def __init__(self,nooftyres):\n",
    "                self.__nooftyres = nooftyres #nooftyres is a private variable unaccesible to user"
   ]
  },
  {
   "cell_type": "code",
   "execution_count": null,
   "id": "5f36429c-dd45-41b5-927f-9f1473de89a1",
   "metadata": {},
   "outputs": [],
   "source": [
    "Q5. Can we create an instance of an abstract class? Explain your answer."
   ]
  },
  {
   "cell_type": "code",
   "execution_count": null,
   "id": "9cee8232-6ee1-46c6-81c9-04763332b30d",
   "metadata": {},
   "outputs": [],
   "source": [
    "Ans: No, we cannot create an instance of an abstract class.\n",
    "    Abstract class can only be inherited and used to redefine its method as per user convenience.\n",
    "    "
   ]
  }
 ],
 "metadata": {
  "kernelspec": {
   "display_name": "Python 3 (ipykernel)",
   "language": "python",
   "name": "python3"
  },
  "language_info": {
   "codemirror_mode": {
    "name": "ipython",
    "version": 3
   },
   "file_extension": ".py",
   "mimetype": "text/x-python",
   "name": "python",
   "nbconvert_exporter": "python",
   "pygments_lexer": "ipython3",
   "version": "3.10.8"
  }
 },
 "nbformat": 4,
 "nbformat_minor": 5
}
