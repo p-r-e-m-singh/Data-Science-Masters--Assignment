{
 "cells": [
  {
   "cell_type": "code",
   "execution_count": null,
   "id": "dcb02084-0bcb-44a9-9cac-2110f0bdfe30",
   "metadata": {},
   "outputs": [],
   "source": [
    "# Q1. Explain why we have to use the Exception class while creating a Custom Exception.\n",
    "Ans. I'ts the application of inheritance , a property of OOPS by virtue of which we can create our own \n",
    "    custom Exceptions. By doing the same we can use the abstract methods of Exception class as per our \n",
    "    convenience so that errors can be handles in desired way.\n",
    "For E.g.:\n",
    "class MyException(Exception): #Using this will make MyException a new exception for the environment\n",
    "    def __init__(self,msg):\n",
    "        self.msg = msg\n",
    "    "
   ]
  },
  {
   "cell_type": "code",
   "execution_count": 6,
   "id": "d9876a73-cd48-4774-8f2c-2b88492322c1",
   "metadata": {},
   "outputs": [
    {
     "name": "stdout",
     "output_type": "stream",
     "text": [
      "BaseException\n",
      "Exception\n"
     ]
    }
   ],
   "source": [
    "# Q2. Write a python program to print Python Exception Hierarchy.\n",
    "# Ans. \n",
    "import sys\n",
    "def print_exception_hierarchy():\n",
    "    \"\"\"Prints the Python Exception Hierarchy\"\"\"\n",
    "    for exc in sorted(sys.exc_info()[1].__class__.__bases__, key=lambda x: str(x)):\n",
    "        print(exc.__name__)\n",
    "    print(sys.exc_info()[1].__class__.__name__)\n",
    "\n",
    "if __name__ == '__main__':\n",
    "    try:\n",
    "        # Raise an exception to get the current exception hierarchy\n",
    "        raise Exception('Test exception')\n",
    "    except:\n",
    "        # Print the exception hierarchy\n",
    "        print_exception_hierarchy()"
   ]
  },
  {
   "cell_type": "code",
   "execution_count": 7,
   "id": "2c3b0e07-e2fc-4e58-924d-2f0974e3badc",
   "metadata": {},
   "outputs": [
    {
     "name": "stdout",
     "output_type": "stream",
     "text": [
      "Division by zero not-defined\n",
      "Incompatible types used to perform calculaion\n"
     ]
    }
   ],
   "source": [
    "# Q3. What errors are defined in the ArithmeticError class? Explain any two with an example.\n",
    "# Ans. Errors related to numbers in numerical algebra are defined inside ArithmeticError class.\n",
    "# For Eg.:\n",
    "# 1. ZeroDivisionError : This Error arises when a number is divided by 0.\n",
    "# implementation:\n",
    "try:\n",
    "    a = 5/0\n",
    "except ZeroDivisionError:\n",
    "    print(\"Division by zero not-defined\")\n",
    "\n",
    "# 2. TypeError : This error arises when numerical computation is done on different type of objects.\n",
    "# implemantaion:\n",
    "try:\n",
    "    a = 5 + 'b'\n",
    "except TypeError:\n",
    "    print(\"Incompatible types used to perform calculaion\")\n",
    "# Further OverFlowError,FloatingPointError,ValueError,AssertionError are parts of ArithmeticError class.\n",
    "    "
   ]
  },
  {
   "cell_type": "code",
   "execution_count": 9,
   "id": "e0e708da-03d3-446d-bbb5-27136c541ccc",
   "metadata": {},
   "outputs": [
    {
     "name": "stdout",
     "output_type": "stream",
     "text": [
      "Key not found in the dictionary stored!\n",
      "4\n",
      "5\n",
      "6\n",
      "2\n",
      "7\n",
      "Index OUt of Bound\n"
     ]
    }
   ],
   "source": [
    "# Q4. Why LookupError class is used? Explain with an example KeyError and IndexError.\n",
    "# Ans. The LookupError class is used to generate error when a lookup value is not present in the databse in the compueter.\n",
    "# for Example:\n",
    "try: \n",
    "    dic = {1:1,2:4,3:9}\n",
    "    print(dic[5])\n",
    "except KeyError:  #as 5 is not the key in dic , hence error will be generated\n",
    "    print(\"Key not found in the dictionary stored!\")\n",
    "\n",
    "# IndexError\n",
    "\n",
    "try:\n",
    "    lis = [4,5,6,2,7]\n",
    "    for i in range(6):\n",
    "        print(lis[i])\n",
    "    print()\n",
    "except IndexError: #as no element is stored at index 5 hence error will be genrated\n",
    "    print(\"Index OUt of Bound\")"
   ]
  },
  {
   "cell_type": "code",
   "execution_count": 11,
   "id": "fb8fdc68-7094-4c89-af01-5e271e8cb126",
   "metadata": {},
   "outputs": [
    {
     "name": "stdout",
     "output_type": "stream",
     "text": [
      "Imported Module Not present\n"
     ]
    }
   ],
   "source": [
    "# Q5. Explain ImportError. What is ModuleNotFoundError?\n",
    "# Ans. ImportError is generated when our progrsm faces problem in importing a module required for its execution.\n",
    "# ModuleNotFoundError is generated when a Python Module imported in a program is not present in the system.\n",
    "# for example:\n",
    "try:\n",
    "    import flask\n",
    "    print(\"abc\")\n",
    "except ModuleNotFoundError:\n",
    "    print(\"Imported Module Not present\")"
   ]
  },
  {
   "cell_type": "code",
   "execution_count": null,
   "id": "34a74f46-3e22-41d5-8ec2-a40ca3a02323",
   "metadata": {},
   "outputs": [],
   "source": [
    "# Q6. List down some best practices for exception handling in python.\n",
    "Ans.\n",
    "1. Using 'finally' statement.\n",
    "2. using 'except' statement\n",
    "3. Using 'with' statement\n",
    "4. Logging errors.\n",
    "5. Using/Displaying meaningful messages for error generated\n"
   ]
  }
 ],
 "metadata": {
  "kernelspec": {
   "display_name": "Python 3 (ipykernel)",
   "language": "python",
   "name": "python3"
  },
  "language_info": {
   "codemirror_mode": {
    "name": "ipython",
    "version": 3
   },
   "file_extension": ".py",
   "mimetype": "text/x-python",
   "name": "python",
   "nbconvert_exporter": "python",
   "pygments_lexer": "ipython3",
   "version": "3.10.8"
  }
 },
 "nbformat": 4,
 "nbformat_minor": 5
}
