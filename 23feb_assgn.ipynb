{
 "cells": [
  {
   "cell_type": "code",
   "execution_count": 12,
   "id": "dd2d60bd-ac3f-4d9d-9d19-f3a871e05167",
   "metadata": {},
   "outputs": [],
   "source": [
    "import pandas as pd\n",
    "import numpy as np"
   ]
  },
  {
   "cell_type": "code",
   "execution_count": 10,
   "id": "bf5da12d-2876-4e84-89e7-93d6a2bbf552",
   "metadata": {},
   "outputs": [
    {
     "name": "stdout",
     "output_type": "stream",
     "text": [
      "0     4\n",
      "1     8\n",
      "2    15\n",
      "3    16\n",
      "4    23\n",
      "5    42\n",
      "dtype: int64\n"
     ]
    }
   ],
   "source": [
    "# Q1. Create a Pandas Series that contains the following data: 4, 8, 15, 16, 23, and 42. Then, print the series.\n",
    "l = [4,8,15,16,23,42]\n",
    "ser = pd.Series(l)\n",
    "print(ser)"
   ]
  },
  {
   "cell_type": "code",
   "execution_count": 18,
   "id": "1213dc78-1e0d-40fe-9549-4f0eb031d06a",
   "metadata": {},
   "outputs": [
    {
     "name": "stdout",
     "output_type": "stream",
     "text": [
      "0    0.373769\n",
      "1    0.933475\n",
      "2    0.394208\n",
      "3    0.350216\n",
      "4    0.022296\n",
      "5    0.925520\n",
      "6    0.847673\n",
      "7    0.113856\n",
      "8    0.891818\n",
      "9    0.623435\n",
      "dtype: float64\n"
     ]
    }
   ],
   "source": [
    "# Q2. Create a variable of list type containing 10 elements in it, and apply pandas.Series function on the\n",
    "# variable print it.\n",
    "lis = np.random.rand(10)\n",
    "df = pd.Series(lis)\n",
    "print(df)"
   ]
  },
  {
   "cell_type": "code",
   "execution_count": 19,
   "id": "1bb5e11f-7745-4a0d-aa34-55b90c6b654f",
   "metadata": {},
   "outputs": [
    {
     "name": "stdout",
     "output_type": "stream",
     "text": [
      "     Name  Age  Gender\n",
      "0   ALice   25  Female\n",
      "1     Bob   30    Male\n",
      "2  Claire   27  Female\n"
     ]
    }
   ],
   "source": [
    "# Q3. Create a Pandas DataFrame that contains the following data:\n",
    "DATA={'Name':['ALice','Bob','Claire'],'Age':[25,30,27],'Gender':['Female','Male','Female']}\n",
    "df = pd.DataFrame(DATA)\n",
    "print(df)"
   ]
  },
  {
   "cell_type": "code",
   "execution_count": 26,
   "id": "aa627955-38db-4a33-95e4-5259af972d4b",
   "metadata": {},
   "outputs": [
    {
     "name": "stdout",
     "output_type": "stream",
     "text": [
      "Dataframe\n",
      "   col1  col2\n",
      "0     1     3\n",
      "1     2     4\n",
      "Serie after this\n",
      "0    1\n",
      "1    2\n",
      "2    3\n",
      "3    4\n",
      "dtype: int64\n"
     ]
    }
   ],
   "source": [
    "# Q4. What is ‘DataFrame’ in pandas and how is it different from pandas.series? Explain with an example.\n",
    "# Ans. A DataFrame is a 2 dimensional table in Pandas whereas a Serie is a single dimension\n",
    "# Storage structure.\n",
    "# for E.g:\n",
    "dataframe = pd.DataFrame({'col1':[1,2],'col2':[3,4]})\n",
    "ser = pd.Series([1,2,3,4])\n",
    "print(\"Dataframe\",dataframe,\"Serie after this\",ser,sep=\"\\n\")"
   ]
  },
  {
   "cell_type": "code",
   "execution_count": 21,
   "id": "e7938bb4-fce0-4ead-b698-d1e783210f90",
   "metadata": {},
   "outputs": [
    {
     "data": {
      "text/plain": [
       "<AxesSubplot: >"
      ]
     },
     "execution_count": 21,
     "metadata": {},
     "output_type": "execute_result"
    },
    {
     "data": {
      "image/png": "[encoded data removed]",
      "text/plain": [
       "<Figure size 640x480 with 1 Axes>"
      ]
     },
     "metadata": {},
     "output_type": "display_data"
    }
   ],
   "source": [
    "# Q5. What are some common functions you can use to manipulate data in a Pandas DataFrame? \n",
    "# Can you give an example of when you might use one of these functions?\n",
    "# Ans. We can use statistical , visualization , grouping,sorting,indexing functions etc in Pandas\n",
    "# to manipulate DataFrame.\n",
    "\n",
    "# For E.g.:\n",
    "df = pd.Series([45,15,23,11,6])\n",
    "df.plot.pie() #Simple use of virtualization in Pandas\n",
    "    "
   ]
  },
  {
   "cell_type": "code",
   "execution_count": null,
   "id": "e8870709-74e0-490f-922b-621042e12f1f",
   "metadata": {},
   "outputs": [],
   "source": [
    "# Q6. Which of the following is mutable in nature Series, DataFrame, Panel?\n",
    "Ans. Both Series and DataFrame are mutable in nature ."
   ]
  },
  {
   "cell_type": "code",
   "execution_count": 23,
   "id": "6da560b3-d402-4144-a52f-58d14c116a91",
   "metadata": {},
   "outputs": [
    {
     "name": "stdout",
     "output_type": "stream",
     "text": [
      "   Integers Chars\n",
      "0         1     a\n",
      "1         2     b\n",
      "2         3     c\n",
      "3         4     d\n"
     ]
    }
   ],
   "source": [
    "# Q7. Create a DataFrame using multiple Series. Explain with an example.\n",
    "a = pd.Series([1,2,3,4])\n",
    "b= pd.Series(['a','b','c','d'])\n",
    "df = pd.DataFrame({'Integers':a,'Chars':b})\n",
    "print(df)"
   ]
  },
  {
   "cell_type": "code",
   "execution_count": null,
   "id": "4279cb4d-17ab-4534-9a01-cc46874e19b2",
   "metadata": {},
   "outputs": [],
   "source": []
  }
 ],
 "metadata": {
  "kernelspec": {
   "display_name": "Python 3 (ipykernel)",
   "language": "python",
   "name": "python3"
  },
  "language_info": {
   "codemirror_mode": {
    "name": "ipython",
    "version": 3
   },
   "file_extension": ".py",
   "mimetype": "text/x-python",
   "name": "python",
   "nbconvert_exporter": "python",
   "pygments_lexer": "ipython3",
   "version": "3.10.8"
  }
 },
 "nbformat": 4,
 "nbformat_minor": 5
}
